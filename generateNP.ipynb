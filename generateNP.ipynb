{
 "cells": [
  {
   "cell_type": "code",
   "execution_count": 1,
   "metadata": {},
   "outputs": [],
   "source": [
    "import pandas as pd"
   ]
  },
  {
   "cell_type": "code",
   "execution_count": 15,
   "metadata": {},
   "outputs": [],
   "source": [
    "data = pd.read_csv(\"data/np0.smi\", header = None, names = ['smiles'])"
   ]
  },
  {
   "cell_type": "code",
   "execution_count": 18,
   "metadata": {},
   "outputs": [],
   "source": [
    "data['kk'] = data['smiles']"
   ]
  },
  {
   "cell_type": "code",
   "execution_count": 21,
   "metadata": {},
   "outputs": [],
   "source": [
    "del data['kk']"
   ]
  },
  {
   "cell_type": "code",
   "execution_count": 28,
   "metadata": {},
   "outputs": [],
   "source": [
    "import os\n",
    "from rdkit.Chem import rdBase, RDConfig\n",
    "from rdkit import Chem\n",
    "from rdkit.Chem import PandasTools\n",
    "from rdkit.Chem.Draw import IPythonConsole\n",
    "from rdkit.Chem import Descriptors"
   ]
  },
  {
   "cell_type": "code",
   "execution_count": 26,
   "metadata": {},
   "outputs": [
    {
     "name": "stderr",
     "output_type": "stream",
     "text": [
      "RDKit WARNING: [15:35:43] Conflicting single bond directions around double bond at index 1.\n",
      "RDKit WARNING: [15:35:43]   BondStereo set to STEREONONE and single bond directions set to NONE.\n"
     ]
    }
   ],
   "source": [
    "data['mol'] = data['smiles'].apply(Chem.MolFromSmiles)\n"
   ]
  },
  {
   "cell_type": "code",
   "execution_count": 29,
   "metadata": {},
   "outputs": [],
   "source": [
    "data['mw'] = data['mol'].apply(Descriptors.MolWt)"
   ]
  },
  {
   "cell_type": "code",
   "execution_count": 31,
   "metadata": {},
   "outputs": [],
   "source": [
    "data['logp'] = data['mol'].apply(Descriptors.MolLogP)"
   ]
  },
  {
   "cell_type": "code",
   "execution_count": 33,
   "metadata": {},
   "outputs": [],
   "source": [
    "data['qed'] = data['mol'].apply(qed)"
   ]
  },
  {
   "cell_type": "code",
   "execution_count": 35,
   "metadata": {},
   "outputs": [],
   "source": [
    "del data['mol']"
   ]
  },
  {
   "cell_type": "code",
   "execution_count": 36,
   "metadata": {},
   "outputs": [
    {
     "data": {
      "text/html": [
       "<div>\n",
       "<style scoped>\n",
       "    .dataframe tbody tr th:only-of-type {\n",
       "        vertical-align: middle;\n",
       "    }\n",
       "\n",
       "    .dataframe tbody tr th {\n",
       "        vertical-align: top;\n",
       "    }\n",
       "\n",
       "    .dataframe thead th {\n",
       "        text-align: right;\n",
       "    }\n",
       "</style>\n",
       "<table border=\"1\" class=\"dataframe\">\n",
       "  <thead>\n",
       "    <tr style=\"text-align: right;\">\n",
       "      <th></th>\n",
       "      <th>smiles</th>\n",
       "      <th>mw</th>\n",
       "      <th>logp</th>\n",
       "      <th>qed</th>\n",
       "    </tr>\n",
       "  </thead>\n",
       "  <tbody>\n",
       "    <tr>\n",
       "      <th>0</th>\n",
       "      <td>C=C1C(=O)O[C@H]2C[C@@H](C)[C@@H]3CCC(=O)[C@@]3(C)C[C@H]12</td>\n",
       "      <td>248.322</td>\n",
       "      <td>2.49950</td>\n",
       "      <td>0.488430</td>\n",
       "    </tr>\n",
       "    <tr>\n",
       "      <th>1</th>\n",
       "      <td>CC(=O)O[C@@H]1c2c(C)coc2C(=O)[C@@]23O[C@@H]2CC[C@H](C)[C@@]13C</td>\n",
       "      <td>304.342</td>\n",
       "      <td>2.96232</td>\n",
       "      <td>0.589101</td>\n",
       "    </tr>\n",
       "    <tr>\n",
       "      <th>2</th>\n",
       "      <td>C/C=C(\\C)C(=O)O[C@H]1C=C(CO)C(=O)[C@H](OC(C)=O)[C@H]1C(C)C</td>\n",
       "      <td>324.373</td>\n",
       "      <td>1.56970</td>\n",
       "      <td>0.609694</td>\n",
       "    </tr>\n",
       "    <tr>\n",
       "      <th>3</th>\n",
       "      <td>C=C1C(=O)O[C@H]2[C@@H]1[C@H](OC(=O)/C(=C/CO)COC(=O)/C(C)=C/CO)CC(=C)[C@@H]1CC(=O)[C@@H](C)[C@@H]12</td>\n",
       "      <td>474.506</td>\n",
       "      <td>1.19770</td>\n",
       "      <td>0.241300</td>\n",
       "    </tr>\n",
       "    <tr>\n",
       "      <th>4</th>\n",
       "      <td>C=C1C(=O)O[C@@H]2[C@H]1CC(=O)[C@H](C)[C@@](O)(C(=O)/C=C/C)[C@H]2OC(=O)[C@H](C)CC</td>\n",
       "      <td>378.421</td>\n",
       "      <td>1.52730</td>\n",
       "      <td>0.570879</td>\n",
       "    </tr>\n",
       "  </tbody>\n",
       "</table>\n",
       "</div>"
      ],
      "text/plain": [
       "                                                                                               smiles       mw     logp       qed\n",
       "0                                           C=C1C(=O)O[C@H]2C[C@@H](C)[C@@H]3CCC(=O)[C@@]3(C)C[C@H]12  248.322  2.49950  0.488430\n",
       "1                                      CC(=O)O[C@@H]1c2c(C)coc2C(=O)[C@@]23O[C@@H]2CC[C@H](C)[C@@]13C  304.342  2.96232  0.589101\n",
       "2                                          C/C=C(\\C)C(=O)O[C@H]1C=C(CO)C(=O)[C@H](OC(C)=O)[C@H]1C(C)C  324.373  1.56970  0.609694\n",
       "3  C=C1C(=O)O[C@H]2[C@@H]1[C@H](OC(=O)/C(=C/CO)COC(=O)/C(C)=C/CO)CC(=C)[C@@H]1CC(=O)[C@@H](C)[C@@H]12  474.506  1.19770  0.241300\n",
       "4                    C=C1C(=O)O[C@@H]2[C@H]1CC(=O)[C@H](C)[C@@](O)(C(=O)/C=C/C)[C@H]2OC(=O)[C@H](C)CC  378.421  1.52730  0.570879"
      ]
     },
     "execution_count": 36,
     "metadata": {},
     "output_type": "execute_result"
    }
   ],
   "source": [
    "data.head()"
   ]
  },
  {
   "cell_type": "code",
   "execution_count": 43,
   "metadata": {},
   "outputs": [],
   "source": [
    "data.to_csv('data/np.csv', index = False)"
   ]
  },
  {
   "cell_type": "code",
   "execution_count": 40,
   "metadata": {},
   "outputs": [
    {
     "ename": "NameError",
     "evalue": "name 'to_csv' is not defined",
     "output_type": "error",
     "traceback": [
      "\u001b[0;31m---------------------------------------------------------------------------\u001b[0m",
      "\u001b[0;31mNameError\u001b[0m                                 Traceback (most recent call last)",
      "\u001b[0;32m<ipython-input-40-ee27688e85ae>\u001b[0m in \u001b[0;36m<module>\u001b[0;34m()\u001b[0m\n\u001b[0;32m----> 1\u001b[0;31m \u001b[0mhelp\u001b[0m\u001b[0;34m(\u001b[0m\u001b[0mto_csv\u001b[0m\u001b[0;34m)\u001b[0m\u001b[0;34m\u001b[0m\u001b[0m\n\u001b[0m",
      "\u001b[0;31mNameError\u001b[0m: name 'to_csv' is not defined"
     ]
    }
   ],
   "source": [
    "help(to_csv)"
   ]
  },
  {
   "cell_type": "code",
   "execution_count": null,
   "metadata": {},
   "outputs": [],
   "source": []
  }
 ],
 "metadata": {
  "kernelspec": {
   "display_name": "Python 2",
   "language": "python",
   "name": "python2"
  },
  "language_info": {
   "codemirror_mode": {
    "name": "ipython",
    "version": 2
   },
   "file_extension": ".py",
   "mimetype": "text/x-python",
   "name": "python",
   "nbconvert_exporter": "python",
   "pygments_lexer": "ipython2",
   "version": "2.7.15"
  }
 },
 "nbformat": 4,
 "nbformat_minor": 2
}
