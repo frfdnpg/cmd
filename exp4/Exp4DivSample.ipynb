{
 "cells": [
  {
   "cell_type": "markdown",
   "metadata": {},
   "source": [
    "This script aims at generating input files to be used as inputs to the CMD. Starting from the ZINC lead-like clean compounds (clle.smi), it applies divsamp0 to create an orthogonal subset. It adds properties to the molecules and save as csv file (div0le.csv). In parallel, it creates a control csv file with the first 310K clustered molecules of the ZINC lead-like clean compounds (clusle.csv); this file is supposed to have much lower diversity since we are using the largest clusters from clle.smi. \n",
    "\n",
    "The same process is done but starting from the ZINC drug-like clean compounds (cldr.smi). In this case, since the rdkit2fps does not work with such a large set of molecules, we select 5000000 of them randomly previously"
   ]
  },
  {
   "cell_type": "code",
   "execution_count": 1,
   "metadata": {},
   "outputs": [
    {
     "name": "stderr",
     "output_type": "stream",
     "text": [
      "/home/gcolmenarejo/anaconda3/envs/cix/lib/python2.7/site-packages/matplotlib/cbook/deprecation.py:107: MatplotlibDeprecationWarning: The mpl_toolkits.axes_grid module was deprecated in version 2.1. Use mpl_toolkits.axes_grid1 and mpl_toolkits.axisartist provies the same functionality instead.\n",
      "  warnings.warn(message, mplDeprecation, stacklevel=1)\n"
     ]
    }
   ],
   "source": [
    "# Import myfunc at cix folder\n",
    "%matplotlib inline\n",
    "import matplotlib.pyplot as plt\n",
    "import sys\n",
    "sys.path.insert(0, '../cix')\n",
    "import myfuncs as mf\n",
    "import pandas as pd\n",
    "from rdkit.Chem import rdBase, RDConfig\n",
    "from rdkit import Chem\n",
    "rdBase.DisableLog('rdApp.*') # To make rdkit silent\n",
    "from rdkit.Chem import PandasTools as pt\n",
    "from rdkit.Chem import Descriptors\n",
    "import numpy as np\n",
    "import chemfp\n",
    "import csv\n",
    "import time\n",
    "import os"
   ]
  },
  {
   "cell_type": "code",
   "execution_count": 6,
   "metadata": {},
   "outputs": [
    {
     "name": "stdout",
     "output_type": "stream",
     "text": [
      "Total time: 01:08:32\n"
     ]
    }
   ],
   "source": [
    "####################################################\n",
    "### LEADS orthogonal file\n",
    "####################################################\n",
    "\n",
    "# Init the time counter for the whole notebook for LEADS\n",
    "start = time.time()\n",
    "\n",
    "\n",
    "## First import ZINC SMILES file and generate the corresponding arena\n",
    "\n",
    "smidfl = mf.smisf2smidf(\"./clle.smi\", noid = False, random = True, seed = 123)\n",
    "\n",
    "arl = mf.smidf2arena(smidfl)\n",
    "\n",
    "end = time.time()\n",
    "\n",
    "eltime = end - start\n",
    "\n",
    "print('Total time: ' + time.strftime(\"%H:%M:%S\", time.gmtime(eltime)))"
   ]
  },
  {
   "cell_type": "code",
   "execution_count": 7,
   "metadata": {},
   "outputs": [
    {
     "name": "stdout",
     "output_type": "stream",
     "text": [
      "i=4591274; nsel=310000; nneig=3685062; Sampling time: 12:06:52\n"
     ]
    }
   ],
   "source": [
    "## Apply divsamp0 to generate an orthogonal set of 310K molecules\n",
    "\n",
    "sell = mf.divsamp0(arl, nlimit = 310000)"
   ]
  },
  {
   "cell_type": "code",
   "execution_count": 8,
   "metadata": {},
   "outputs": [],
   "source": [
    "# Add ids and save as SMILES file\n",
    "\n",
    "nids = [arl.ids[x] for x in sell]\n",
    "smidfl[smidfl.id.isin(nids)].to_csv(\"div0le.smi\", index = False, sep = \" \", header = False)"
   ]
  },
  {
   "cell_type": "code",
   "execution_count": 9,
   "metadata": {},
   "outputs": [],
   "source": [
    "# Create with these molecules a csv file with properties to be able to run CMD\n",
    "# This is a similiar process to the one used in GenerateNP in exp3\n",
    "\n",
    "data = pd.read_csv(\"./div0le.smi\", header = None, names = ['smiles'])\n",
    "\n",
    "# Create mol objects\n",
    "data['mol'] = data['smiles'].apply(Chem.MolFromSmiles)\n",
    "\n",
    "# Create column with non-isomeric SMILES (we'll use that)\n",
    "data[\"smi\"] = data['mol'].apply(Chem.MolToSmiles, isomericSmiles=False)\n",
    "\n",
    "# Generate properties and add to dataframe\n",
    "data['mw'] = data['mol'].apply(Descriptors.MolWt)\n",
    "data['logp'] = data['mol'].apply(Descriptors.MolLogP)\n",
    "data['qed'] = data['mol'].apply(Descriptors.qed)\n",
    "\n",
    "# Delete column of mol objects\n",
    "del data['mol']\n",
    "\n",
    "# Save csv file with non-isomeric smiles and properties\n",
    "data[[\"smi\",\"mw\",\"logp\",\"qed\"]].to_csv('./div0le.csv', index = False)"
   ]
  },
  {
   "cell_type": "code",
   "execution_count": 10,
   "metadata": {},
   "outputs": [
    {
     "name": "stdout",
     "output_type": "stream",
     "text": [
      "Clustering time: 04:22:56\n"
     ]
    }
   ],
   "source": [
    "####################################################\n",
    "### LEADS clustered file\n",
    "####################################################\n",
    "\n",
    "# We generate a dataframe with smiles from the zinc lead-like clean group of molecules. \n",
    "smidfl = mf.smisf2smidf(\"./clle.smi\", noid = False)\n",
    "\n",
    "# We cluster the molecules\n",
    "cls = mf.clusmidf(smidfl)"
   ]
  },
  {
   "cell_type": "code",
   "execution_count": 11,
   "metadata": {},
   "outputs": [
    {
     "data": {
      "image/png": "[encoded data removed]",
      "text/plain": [
       "<Figure size 720x288 with 4 Axes>"
      ]
     },
     "metadata": {
      "needs_background": "light"
     },
     "output_type": "display_data"
    }
   ],
   "source": [
    "# Plot the clusters distribution\n",
    "mf.plotmulticlus([cls],  10, 4)"
   ]
  },
  {
   "cell_type": "code",
   "execution_count": 12,
   "metadata": {},
   "outputs": [],
   "source": [
    "# Generate the flat list of molecules\n",
    "flat_cls = [i for cl in cls for i in cl]\n",
    "\n",
    "# Add ids and save as SMILES file\n",
    "smidfl[smidfl.id.isin(flat_cls[:310000])].to_csv(\"clusle.smi\", index = False, sep = \" \", header = False)"
   ]
  },
  {
   "cell_type": "code",
   "execution_count": 13,
   "metadata": {},
   "outputs": [],
   "source": [
    "# Create with these molecules a csv file with properties to be able to run CMD\n",
    "# This is a similiar process to the one used in GenerateNP in exp3\n",
    "\n",
    "data = pd.read_csv(\"./clusle.smi\", header = None, names = ['smiles'])\n",
    "\n",
    "# Create mol objects\n",
    "data['mol'] = data['smiles'].apply(Chem.MolFromSmiles)\n",
    "\n",
    "# Create column with non-isomeric SMILES (we'll use that)\n",
    "data[\"smi\"] = data['mol'].apply(Chem.MolToSmiles, isomericSmiles=False)\n",
    "\n",
    "# Generate properties and add to dataframe\n",
    "data['mw'] = data['mol'].apply(Descriptors.MolWt)\n",
    "data['logp'] = data['mol'].apply(Descriptors.MolLogP)\n",
    "data['qed'] = data['mol'].apply(Descriptors.qed)\n",
    "\n",
    "# Delete column of mol objects\n",
    "del data['mol']\n",
    "\n",
    "# Save csv file with non-isomeric smiles and properties\n",
    "data[[\"smi\",\"mw\",\"logp\",\"qed\"]].to_csv('./clusle.csv', index = False)"
   ]
  },
  {
   "cell_type": "code",
   "execution_count": 14,
   "metadata": {},
   "outputs": [
    {
     "name": "stdout",
     "output_type": "stream",
     "text": [
      "Exp4DivSample execution time for LEADS: 18:21:39\n"
     ]
    }
   ],
   "source": [
    "# End the time counter for the whole notebook\n",
    "end = time.time()\n",
    "eltime = end - start\n",
    "print('Exp4DivSample execution time for LEADS: ' + time.strftime(\"%H:%M:%S\", time.gmtime(eltime)))"
   ]
  },
  {
   "cell_type": "code",
   "execution_count": null,
   "metadata": {},
   "outputs": [],
   "source": []
  },
  {
   "cell_type": "code",
   "execution_count": 2,
   "metadata": {},
   "outputs": [
    {
     "name": "stdout",
     "output_type": "stream",
     "text": [
      "Total time: 00:00:48\n"
     ]
    }
   ],
   "source": [
    "####################################################\n",
    "### DRUGS orthogonal file\n",
    "####################################################\n",
    "\n",
    "# Init the time counter for the whole notebook for LEADS\n",
    "start_w = time.time()\n",
    "\n",
    "## First import ZINC SMILES file and generate the corresponding arena\n",
    "\n",
    "start = time.time()\n",
    "\n",
    "smidfd = mf.smisf2smidf(\"./cldr.smi\", noid = False, random = True, seed = 123)\n",
    "\n",
    "smidfd = smidfd.sample(n = 5000000, random_state = 123)\n",
    "\n",
    "end = time.time()\n",
    "\n",
    "eltime = end - start\n",
    "\n",
    "print('Total time: ' + time.strftime(\"%H:%M:%S\", time.gmtime(eltime)))"
   ]
  },
  {
   "cell_type": "code",
   "execution_count": 5,
   "metadata": {},
   "outputs": [
    {
     "name": "stdout",
     "output_type": "stream",
     "text": [
      "Total time: 02:14:07\n"
     ]
    }
   ],
   "source": [
    "start = time.time()\n",
    "\n",
    "ard = mf.smidf2arena(smidfd)\n",
    "\n",
    "end = time.time()\n",
    "\n",
    "eltime = end - start\n",
    "\n",
    "print('Total time: ' + time.strftime(\"%H:%M:%S\", time.gmtime(eltime)))"
   ]
  },
  {
   "cell_type": "code",
   "execution_count": 6,
   "metadata": {},
   "outputs": [
    {
     "name": "stdout",
     "output_type": "stream",
     "text": [
      "i=4999992; nsel=310000; nneig=4545691; Sampling time: 13:56:44\n"
     ]
    }
   ],
   "source": [
    "## Apply divsamp0 to generate an orthogonal set of 310K molecules\n",
    "\n",
    "seld = mf.divsamp0(ard, nlimit = 310000)"
   ]
  },
  {
   "cell_type": "code",
   "execution_count": 7,
   "metadata": {},
   "outputs": [],
   "source": [
    "# Add ids and save as SMILES file\n",
    "\n",
    "nids = [ard.ids[x] for x in seld]\n",
    "smidfd[smidfd.id.isin(nids)].to_csv(\"div0dr.smi\", index = False, sep = \" \", header = False)"
   ]
  },
  {
   "cell_type": "code",
   "execution_count": 8,
   "metadata": {},
   "outputs": [],
   "source": [
    "# Create with these molecules a csv file with properties to be able to run CMD\n",
    "# This is a similiar process to the one used in GenerateNP in exp3\n",
    "\n",
    "data = pd.read_csv(\"./div0dr.smi\", header = None, names = ['smiles'])\n",
    "\n",
    "# Create mol objects\n",
    "data['mol'] = data['smiles'].apply(Chem.MolFromSmiles)\n",
    "\n",
    "# Create column with non-isomeric SMILES (we'll use that)\n",
    "data[\"smi\"] = data['mol'].apply(Chem.MolToSmiles, isomericSmiles=False)\n",
    "\n",
    "# Generate properties and add to dataframe\n",
    "data['mw'] = data['mol'].apply(Descriptors.MolWt)\n",
    "data['logp'] = data['mol'].apply(Descriptors.MolLogP)\n",
    "data['qed'] = data['mol'].apply(Descriptors.qed)\n",
    "\n",
    "# Delete column of mol objects\n",
    "del data['mol']\n",
    "\n",
    "# Save csv file with non-isomeric smiles and properties\n",
    "data[[\"smi\",\"mw\",\"logp\",\"qed\"]].to_csv('./div0dr.csv', index = False)"
   ]
  },
  {
   "cell_type": "code",
   "execution_count": 9,
   "metadata": {},
   "outputs": [
    {
     "name": "stdout",
     "output_type": "stream",
     "text": [
      "Clustering time: 05:58:32\n"
     ]
    }
   ],
   "source": [
    "####################################################\n",
    "### DRUGS clustered file\n",
    "####################################################\n",
    "\n",
    "# We generate a dataframe with smiles from the zinc lead-like clean group of molecules. \n",
    "smidfd = mf.smisf2smidf(\"./cldr.smi\", noid = False, random = True, seed = 123)\n",
    "\n",
    "smidfd = smidfd.sample(n = 5000000, random_state = 123)\n",
    "\n",
    "# We cluster the molecules\n",
    "cls = mf.clusmidf(smidfd)"
   ]
  },
  {
   "cell_type": "code",
   "execution_count": 10,
   "metadata": {},
   "outputs": [
    {
     "data": {
      "image/png": "[encoded data removed]",
      "text/plain": [
       "<Figure size 720x360 with 4 Axes>"
      ]
     },
     "metadata": {
      "needs_background": "light"
     },
     "output_type": "display_data"
    }
   ],
   "source": [
    "# Plot the clusters distribution\n",
    "mf.plotmulticlus([cls],  10, 5)"
   ]
  },
  {
   "cell_type": "code",
   "execution_count": 11,
   "metadata": {},
   "outputs": [],
   "source": [
    "# Generate the flat list of molecules\n",
    "flat_cls = [i for cl in cls for i in cl]\n",
    "\n",
    "# Add ids and save as SMILES file\n",
    "smidfd[smidfd.id.isin(flat_cls[:310000])].to_csv(\"clusdr.smi\", index = False, sep = \" \", header = False)"
   ]
  },
  {
   "cell_type": "code",
   "execution_count": 12,
   "metadata": {},
   "outputs": [],
   "source": [
    "# Create with these molecules a csv file with properties to be able to run CMD\n",
    "# This is a similiar process to the one used in GenerateNP in exp3\n",
    "\n",
    "data = pd.read_csv(\"./clusdr.smi\", header = None, names = ['smiles'])\n",
    "\n",
    "# Create mol objects\n",
    "data['mol'] = data['smiles'].apply(Chem.MolFromSmiles)\n",
    "\n",
    "# Create column with non-isomeric SMILES (we'll use that)\n",
    "data[\"smi\"] = data['mol'].apply(Chem.MolToSmiles, isomericSmiles=False)\n",
    "\n",
    "# Generate properties and add to dataframe\n",
    "data['mw'] = data['mol'].apply(Descriptors.MolWt)\n",
    "data['logp'] = data['mol'].apply(Descriptors.MolLogP)\n",
    "data['qed'] = data['mol'].apply(Descriptors.qed)\n",
    "\n",
    "# Delete column of mol objects\n",
    "del data['mol']\n",
    "\n",
    "# Save csv file with non-isomeric smiles and properties\n",
    "data[[\"smi\",\"mw\",\"logp\",\"qed\"]].to_csv('./clusdr.csv', index = False)"
   ]
  },
  {
   "cell_type": "code",
   "execution_count": 13,
   "metadata": {},
   "outputs": [
    {
     "name": "stdout",
     "output_type": "stream",
     "text": [
      "Exp4DivSample execution time for DRUGS: 01:35:43\n"
     ]
    }
   ],
   "source": [
    "# End the time counter for the whole notebook\n",
    "end_w = time.time()\n",
    "eltime = end_w - start_w\n",
    "print('Exp4DivSample execution time for DRUGS: ' + time.strftime(\"%H:%M:%S\", time.gmtime(eltime)))"
   ]
  },
  {
   "cell_type": "code",
   "execution_count": null,
   "metadata": {},
   "outputs": [],
   "source": []
  }
 ],
 "metadata": {
  "kernelspec": {
   "display_name": "Python 2",
   "language": "python",
   "name": "python2"
  },
  "language_info": {
   "codemirror_mode": {
    "name": "ipython",
    "version": 2
   },
   "file_extension": ".py",
   "mimetype": "text/x-python",
   "name": "python",
   "nbconvert_exporter": "python",
   "pygments_lexer": "ipython2",
   "version": "2.7.15"
  }
 },
 "nbformat": 4,
 "nbformat_minor": 2
}
