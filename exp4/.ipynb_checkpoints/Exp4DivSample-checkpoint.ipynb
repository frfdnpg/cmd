{
 "cells": [
  {
   "cell_type": "markdown",
   "metadata": {},
   "source": [
    "This script aims at generating input files to be used as inputs to the CMD. Starting from the ZINC lead-like clean compounds (clle.smi), it applies divsamp0 to create an orthogonal subset. It adds properties to the molecules and save as csv file (div0le.csv). In parallel, it creates a control csv file with the first 310K clustered molecules of the ZINC lead-like clean compounds (clusle.csv); this file is supposed to have much lower diversity since we are using the largest clusters from clle.smi. \n",
    "\n",
    "The same process is done but starting from the ZINC drug-like clean compounds (cldr.smi)"
   ]
  },
  {
   "cell_type": "code",
   "execution_count": 1,
   "metadata": {},
   "outputs": [
    {
     "name": "stderr",
     "output_type": "stream",
     "text": [
      "/home/gcolmenarejo/anaconda3/envs/cix/lib/python2.7/site-packages/matplotlib/cbook/deprecation.py:107: MatplotlibDeprecationWarning: The mpl_toolkits.axes_grid module was deprecated in version 2.1. Use mpl_toolkits.axes_grid1 and mpl_toolkits.axisartist provies the same functionality instead.\n",
      "  warnings.warn(message, mplDeprecation, stacklevel=1)\n"
     ]
    }
   ],
   "source": [
    "# Import myfunc at cix folder\n",
    "%matplotlib inline\n",
    "import matplotlib.pyplot as plt\n",
    "import sys\n",
    "sys.path.insert(0, '../cix')\n",
    "import myfuncs as mf\n",
    "import pandas as pd\n",
    "from rdkit.Chem import rdBase, RDConfig\n",
    "from rdkit import Chem\n",
    "rdBase.DisableLog('rdApp.*') # To make rdkit silent\n",
    "from rdkit.Chem import PandasTools as pt\n",
    "from rdkit.Chem import Descriptors\n",
    "import numpy as np\n",
    "import chemfp\n",
    "import csv\n",
    "import time\n",
    "import os"
   ]
  },
  {
   "cell_type": "code",
   "execution_count": 4,
   "metadata": {},
   "outputs": [
    {
     "name": "stdout",
     "output_type": "stream",
     "text": [
      "Total time: 01:23:18\n"
     ]
    }
   ],
   "source": [
    "####################################################\n",
    "### LEADS orthogonal file\n",
    "####################################################\n",
    "\n",
    "## First import ZINC SMILES file and generate the corresponding arena\n",
    "\n",
    "start = time.time()\n",
    "\n",
    "smidfl = mf.smisf2smidf(\"./clle.smi\", noid = False, random = True, seed = 123)\n",
    "\n",
    "arl = mf.smidf2arena(smidfl)\n",
    "\n",
    "end = time.time()\n",
    "\n",
    "eltime = end - start\n",
    "\n",
    "print('Total time: ' + time.strftime(\"%H:%M:%S\", time.gmtime(eltime)))"
   ]
  },
  {
   "cell_type": "code",
   "execution_count": 5,
   "metadata": {},
   "outputs": [
    {
     "name": "stdout",
     "output_type": "stream",
     "text": [
      "i=4591274; nsel=310000; nneig=3685062; Sampling time: 11:46:58\n"
     ]
    }
   ],
   "source": [
    "## Apply divsamp0 to generate an orthogonal set of 310K molecules\n",
    "\n",
    "sell = mf.divsamp0(arl, nlimit = 310000)"
   ]
  },
  {
   "cell_type": "code",
   "execution_count": 9,
   "metadata": {},
   "outputs": [],
   "source": [
    "# Add ids and save as SMILES file\n",
    "\n",
    "nids = [arl.ids[x] for x in sell]\n",
    "smidfl[smidfl.id.isin(nids)].to_csv(\"div0le.smi\", index = False, sep = \" \", header = False)"
   ]
  },
  {
   "cell_type": "code",
   "execution_count": 4,
   "metadata": {},
   "outputs": [],
   "source": [
    "# Create with these molecules a csv file with properties to be able to run CMD\n",
    "# This is a similiar process to the one used in GenerateNP in exp3\n",
    "\n",
    "data = pd.read_csv(\"./div0le.smi\", header = None, names = ['smiles'])\n",
    "\n",
    "# Create mol objects\n",
    "data['mol'] = data['smiles'].apply(Chem.MolFromSmiles)\n",
    "\n",
    "# Create column with non-isomeric SMILES (we'll use that)\n",
    "data[\"smi\"] = data['mol'].apply(Chem.MolToSmiles, isomericSmiles=False)\n",
    "\n",
    "# Generate properties and add to dataframe\n",
    "data['mw'] = data['mol'].apply(Descriptors.MolWt)\n",
    "data['logp'] = data['mol'].apply(Descriptors.MolLogP)\n",
    "data['qed'] = data['mol'].apply(Descriptors.qed)\n",
    "\n",
    "# Delete column of mol objects\n",
    "del data['mol']\n",
    "\n",
    "# Save csv file with non-isomeric smiles and properties\n",
    "data[[\"smi\",\"mw\",\"logp\",\"qed\"]].to_csv('./div0le.csv', index = False)"
   ]
  },
  {
   "cell_type": "code",
   "execution_count": 8,
   "metadata": {},
   "outputs": [
    {
     "name": "stdout",
     "output_type": "stream",
     "text": [
      "Clustering time: 09:23:51\n"
     ]
    }
   ],
   "source": [
    "####################################################\n",
    "### LEADS clustered file\n",
    "####################################################\n",
    "\n",
    "# We generate a dataframe with smiles from the zinc lead-like clean group of molecules. \n",
    "smidfl = mf.smisf2smidf(\"./clle.smi\", noid = False)\n",
    "\n",
    "# We cluster the molecules\n",
    "cls = mf.clusmidf(smidfl)"
   ]
  },
  {
   "cell_type": "code",
   "execution_count": null,
   "metadata": {},
   "outputs": [],
   "source": [
    "# Plot the clusters distribution\n",
    "mf.plotmulticlus([cls],  10, 15)"
   ]
  },
  {
   "cell_type": "code",
   "execution_count": null,
   "metadata": {},
   "outputs": [],
   "source": [
    "# Generate the flat list of molecules\n",
    "flat_cls = [i for cl in cls for i in cl]\n",
    "\n",
    "# Add ids and save as SMILES file\n",
    "nids = [arl.ids[x] for x in flat_cls[:310000]]\n",
    "smidfl[smidfl.id.isin(nids)].to_csv(\"clusle.smi\", index = False, sep = \" \", header = False)"
   ]
  },
  {
   "cell_type": "code",
   "execution_count": null,
   "metadata": {},
   "outputs": [],
   "source": [
    "# Create with these molecules a csv file with properties to be able to run CMD\n",
    "# This is a similiar process to the one used in GenerateNP in exp3\n",
    "\n",
    "data = pd.read_csv(\"./clusle.smi\", header = None, names = ['smiles'])\n",
    "\n",
    "# Create mol objects\n",
    "data['mol'] = data['smiles'].apply(Chem.MolFromSmiles)\n",
    "\n",
    "# Create column with non-isomeric SMILES (we'll use that)\n",
    "data[\"smi\"] = data['mol'].apply(Chem.MolToSmiles, isomericSmiles=False)\n",
    "\n",
    "# Generate properties and add to dataframe\n",
    "data['mw'] = data['mol'].apply(Descriptors.MolWt)\n",
    "data['logp'] = data['mol'].apply(Descriptors.MolLogP)\n",
    "data['qed'] = data['mol'].apply(Descriptors.qed)\n",
    "\n",
    "# Delete column of mol objects\n",
    "del data['mol']\n",
    "\n",
    "# Save csv file with non-isomeric smiles and properties\n",
    "data[[\"smi\",\"mw\",\"logp\",\"qed\"]].to_csv('./clusle.csv', index = False)"
   ]
  },
  {
   "cell_type": "code",
   "execution_count": null,
   "metadata": {},
   "outputs": [],
   "source": []
  },
  {
   "cell_type": "code",
   "execution_count": null,
   "metadata": {},
   "outputs": [],
   "source": [
    "####################################################\n",
    "### DRUGS orthogonal file\n",
    "####################################################\n",
    "\n",
    "start = time.time()\n",
    "\n",
    "smidfd = mf.smisf2smidf(\"./cldr.smi\", noid = False, random = True, seed = 123)\n",
    "\n",
    "ard = mf.smidf2arena(smidfd)\n",
    "\n",
    "end = time.time()\n",
    "\n",
    "eltime = end - start\n",
    "\n",
    "print('Total time: ' + time.strftime(\"%H:%M:%S\", time.gmtime(eltime)))"
   ]
  },
  {
   "cell_type": "code",
   "execution_count": null,
   "metadata": {},
   "outputs": [],
   "source": [
    "## Apply divsamp0 to generate an orthogonal set of 310K molecules\n",
    "\n",
    "seld = mf.divsamp0(ard, nlimit = 310000)"
   ]
  },
  {
   "cell_type": "code",
   "execution_count": null,
   "metadata": {},
   "outputs": [],
   "source": [
    "# Add ids and save as SMILES file\n",
    "\n",
    "nids = [ard.ids[x] for x in seld]\n",
    "smidfd[smidfd.id.isin(nids)].to_csv(\"div0dr.smi\", index = False, sep = \" \", header = False)"
   ]
  },
  {
   "cell_type": "code",
   "execution_count": null,
   "metadata": {},
   "outputs": [],
   "source": [
    "# Create with these molecules a csv file with properties to be able to run CMD\n",
    "# This is a similiar process to the one used in GenerateNP in exp3\n",
    "\n",
    "data = pd.read_csv(\"./div0dr.smi\", header = None, names = ['smiles'])\n",
    "\n",
    "# Create mol objects\n",
    "data['mol'] = data['smiles'].apply(Chem.MolFromSmiles)\n",
    "\n",
    "# Create column with non-isomeric SMILES (we'll use that)\n",
    "data[\"smi\"] = data['mol'].apply(Chem.MolToSmiles, isomericSmiles=False)\n",
    "\n",
    "# Generate properties and add to dataframe\n",
    "data['mw'] = data['mol'].apply(Descriptors.MolWt)\n",
    "data['logp'] = data['mol'].apply(Descriptors.MolLogP)\n",
    "data['qed'] = data['mol'].apply(Descriptors.qed)\n",
    "\n",
    "# Delete column of mol objects\n",
    "del data['mol']\n",
    "\n",
    "# Save csv file with non-isomeric smiles and properties\n",
    "data[[\"smi\",\"mw\",\"logp\",\"qed\"]].to_csv('./div0dr.csv', index = False)"
   ]
  },
  {
   "cell_type": "code",
   "execution_count": null,
   "metadata": {},
   "outputs": [],
   "source": [
    "####################################################\n",
    "### DRUGS clustered file\n",
    "####################################################\n",
    "\n",
    "# We generate a dataframe with smiles from the zinc lead-like clean group of molecules. \n",
    "smidfd = mf.smisf2smidf(\"./cldr.smi\", noid = False)\n",
    "\n",
    "# We cluster the molecules\n",
    "cls = mf.clusmidf(smidfd)"
   ]
  },
  {
   "cell_type": "code",
   "execution_count": null,
   "metadata": {},
   "outputs": [],
   "source": [
    "# Plot the clusters distribution\n",
    "mf.plotmulticlus([cls],  10, 15)"
   ]
  },
  {
   "cell_type": "code",
   "execution_count": null,
   "metadata": {},
   "outputs": [],
   "source": [
    "# Generate the flat list of molecules\n",
    "flat_cls = [i for cl in cls for i in cl]\n",
    "\n",
    "# Add ids and save as SMILES file\n",
    "nids = [ard.ids[x] for x in flat_cls[:310000]]\n",
    "smidfd[smidfd.id.isin(nids)].to_csv(\"clusdr.smi\", index = False, sep = \" \", header = False)"
   ]
  },
  {
   "cell_type": "code",
   "execution_count": null,
   "metadata": {},
   "outputs": [],
   "source": [
    "# Create with these molecules a csv file with properties to be able to run CMD\n",
    "# This is a similiar process to the one used in GenerateNP in exp3\n",
    "\n",
    "data = pd.read_csv(\"./clusdr.smi\", header = None, names = ['smiles'])\n",
    "\n",
    "# Create mol objects\n",
    "data['mol'] = data['smiles'].apply(Chem.MolFromSmiles)\n",
    "\n",
    "# Create column with non-isomeric SMILES (we'll use that)\n",
    "data[\"smi\"] = data['mol'].apply(Chem.MolToSmiles, isomericSmiles=False)\n",
    "\n",
    "# Generate properties and add to dataframe\n",
    "data['mw'] = data['mol'].apply(Descriptors.MolWt)\n",
    "data['logp'] = data['mol'].apply(Descriptors.MolLogP)\n",
    "data['qed'] = data['mol'].apply(Descriptors.qed)\n",
    "\n",
    "# Delete column of mol objects\n",
    "del data['mol']\n",
    "\n",
    "# Save csv file with non-isomeric smiles and properties\n",
    "data[[\"smi\",\"mw\",\"logp\",\"qed\"]].to_csv('./clusdr.csv', index = False)"
   ]
  }
 ],
 "metadata": {
  "kernelspec": {
   "display_name": "Python 2",
   "language": "python",
   "name": "python2"
  },
  "language_info": {
   "codemirror_mode": {
    "name": "ipython",
    "version": 2
   },
   "file_extension": ".py",
   "mimetype": "text/x-python",
   "name": "python",
   "nbconvert_exporter": "python",
   "pygments_lexer": "ipython2",
   "version": "2.7.15"
  }
 },
 "nbformat": 4,
 "nbformat_minor": 2
}
