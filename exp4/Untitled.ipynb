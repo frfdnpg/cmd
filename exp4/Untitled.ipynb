{
 "cells": [
  {
   "cell_type": "code",
   "execution_count": 12,
   "metadata": {},
   "outputs": [],
   "source": [
    "# Import myfunc at cix folder\n",
    "%matplotlib inline\n",
    "import matplotlib.pyplot as plt\n",
    "import sys\n",
    "sys.path.insert(0, '../cix')\n",
    "import myfuncs as mf\n",
    "import pandas as pd\n",
    "from rdkit import rdBase\n",
    "rdBase.DisableLog('rdApp.*') # To make rdkit silent\n",
    "from rdkit.Chem import PandasTools as pt\n",
    "from rdkit.Chem import Descriptors\n",
    "import numpy as np"
   ]
  },
  {
   "cell_type": "code",
   "execution_count": 13,
   "metadata": {},
   "outputs": [],
   "source": [
    "smidf = mf.smisf2smidf(\"./clle.smi\", noid = False)"
   ]
  },
  {
   "cell_type": "code",
   "execution_count": 14,
   "metadata": {},
   "outputs": [
    {
     "data": {
      "text/html": [
       "<div>\n",
       "<style scoped>\n",
       "    .dataframe tbody tr th:only-of-type {\n",
       "        vertical-align: middle;\n",
       "    }\n",
       "\n",
       "    .dataframe tbody tr th {\n",
       "        vertical-align: top;\n",
       "    }\n",
       "\n",
       "    .dataframe thead th {\n",
       "        text-align: right;\n",
       "    }\n",
       "</style>\n",
       "<table border=\"1\" class=\"dataframe\">\n",
       "  <thead>\n",
       "    <tr style=\"text-align: right;\">\n",
       "      <th></th>\n",
       "      <th>smiles</th>\n",
       "      <th>id</th>\n",
       "    </tr>\n",
       "  </thead>\n",
       "  <tbody>\n",
       "    <tr>\n",
       "      <th>1</th>\n",
       "      <td>c1c2c(cc3c1OCO3)[C@@H]4[C@H]([C@@H](C=C5[C@@H]4[NH+](C2)CC5)O)O</td>\n",
       "      <td>ZINC00000024</td>\n",
       "    </tr>\n",
       "    <tr>\n",
       "      <th>2</th>\n",
       "      <td>C[C@@H](CC(c1ccccc1)(c2ccccc2)C(=O)N)[NH+](C)C</td>\n",
       "      <td>ZINC00000030</td>\n",
       "    </tr>\n",
       "    <tr>\n",
       "      <th>3</th>\n",
       "      <td>Cc1c(c(=O)n(n1C)c2ccccc2)NC(=O)[C@H](C)[NH+](C)C</td>\n",
       "      <td>ZINC00000031</td>\n",
       "    </tr>\n",
       "    <tr>\n",
       "      <th>4</th>\n",
       "      <td>C[NH+]1CCN2c3ccccc3Cn4cccc4[C@@H]2C1</td>\n",
       "      <td>ZINC00000050</td>\n",
       "    </tr>\n",
       "    <tr>\n",
       "      <th>5</th>\n",
       "      <td>C[NH+]1[C@@H]2CC[C@H]1CC(C2)OC(=O)[C@H](CO)c3ccccc3</td>\n",
       "      <td>ZINC00000056</td>\n",
       "    </tr>\n",
       "    <tr>\n",
       "      <th>6</th>\n",
       "      <td>CC(C)[NH2+]C[C@H](COc1cccc2c1oc(c2)C(=O)C)O</td>\n",
       "      <td>ZINC00000063</td>\n",
       "    </tr>\n",
       "    <tr>\n",
       "      <th>7</th>\n",
       "      <td>c1cc(ccc1C(=O)[O-])N[C@@H]2[C@@H]([C@H]([C@@H](CO2)O)O)O</td>\n",
       "      <td>ZINC00000066</td>\n",
       "    </tr>\n",
       "    <tr>\n",
       "      <th>8</th>\n",
       "      <td>C[C@@H](c1nc(cs1)c2ccc(cc2)Br)C(=O)[O-]</td>\n",
       "      <td>ZINC00000091</td>\n",
       "    </tr>\n",
       "    <tr>\n",
       "      <th>9</th>\n",
       "      <td>C[C@H](Cc1cc(c(cc1OC)Br)OC)[NH3+]</td>\n",
       "      <td>ZINC00000092</td>\n",
       "    </tr>\n",
       "  </tbody>\n",
       "</table>\n",
       "</div>"
      ],
      "text/plain": [
       "                                                            smiles            id\n",
       "1  c1c2c(cc3c1OCO3)[C@@H]4[C@H]([C@@H](C=C5[C@@H]4[NH+](C2)CC5)O)O  ZINC00000024\n",
       "2                   C[C@@H](CC(c1ccccc1)(c2ccccc2)C(=O)N)[NH+](C)C  ZINC00000030\n",
       "3                 Cc1c(c(=O)n(n1C)c2ccccc2)NC(=O)[C@H](C)[NH+](C)C  ZINC00000031\n",
       "4                             C[NH+]1CCN2c3ccccc3Cn4cccc4[C@@H]2C1  ZINC00000050\n",
       "5              C[NH+]1[C@@H]2CC[C@H]1CC(C2)OC(=O)[C@H](CO)c3ccccc3  ZINC00000056\n",
       "6                      CC(C)[NH2+]C[C@H](COc1cccc2c1oc(c2)C(=O)C)O  ZINC00000063\n",
       "7         c1cc(ccc1C(=O)[O-])N[C@@H]2[C@@H]([C@H]([C@@H](CO2)O)O)O  ZINC00000066\n",
       "8                          C[C@@H](c1nc(cs1)c2ccc(cc2)Br)C(=O)[O-]  ZINC00000091\n",
       "9                                C[C@H](Cc1cc(c(cc1OC)Br)OC)[NH3+]  ZINC00000092"
      ]
     },
     "execution_count": 14,
     "metadata": {},
     "output_type": "execute_result"
    }
   ],
   "source": [
    "smidf[1:10]"
   ]
  },
  {
   "cell_type": "code",
   "execution_count": null,
   "metadata": {},
   "outputs": [],
   "source": [
    "smidf.sample(frac=1)"
   ]
  },
  {
   "cell_type": "code",
   "execution_count": null,
   "metadata": {},
   "outputs": [],
   "source": [
    "smidf[1:10]"
   ]
  },
  {
   "cell_type": "code",
   "execution_count": null,
   "metadata": {},
   "outputs": [],
   "source": [
    "for x in range(100000):\n",
    "    print '{0}\\r'.format(x),\n",
    "print"
   ]
  },
  {
   "cell_type": "code",
   "execution_count": null,
   "metadata": {},
   "outputs": [],
   "source": []
  }
 ],
 "metadata": {
  "kernelspec": {
   "display_name": "Python 2",
   "language": "python",
   "name": "python2"
  },
  "language_info": {
   "codemirror_mode": {
    "name": "ipython",
    "version": 2
   },
   "file_extension": ".py",
   "mimetype": "text/x-python",
   "name": "python",
   "nbconvert_exporter": "python",
   "pygments_lexer": "ipython2",
   "version": "2.7.15"
  }
 },
 "nbformat": 4,
 "nbformat_minor": 2
}
