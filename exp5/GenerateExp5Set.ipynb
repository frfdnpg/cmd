{
 "cells": [
  {
   "cell_type": "code",
   "execution_count": 1,
   "metadata": {},
   "outputs": [],
   "source": [
    "import pandas as pd\n",
    "import os\n",
    "from rdkit.Chem import rdBase, RDConfig\n",
    "from rdkit import Chem\n",
    "from rdkit.Chem import PandasTools\n",
    "from rdkit.Chem.Draw import IPythonConsole\n",
    "from rdkit.Chem import Descriptors"
   ]
  },
  {
   "cell_type": "code",
   "execution_count": 2,
   "metadata": {},
   "outputs": [
    {
     "data": {
      "text/html": [
       "<div>\n",
       "<style scoped>\n",
       "    .dataframe tbody tr th:only-of-type {\n",
       "        vertical-align: middle;\n",
       "    }\n",
       "\n",
       "    .dataframe tbody tr th {\n",
       "        vertical-align: top;\n",
       "    }\n",
       "\n",
       "    .dataframe thead th {\n",
       "        text-align: right;\n",
       "    }\n",
       "</style>\n",
       "<table border=\"1\" class=\"dataframe\">\n",
       "  <thead>\n",
       "    <tr style=\"text-align: right;\">\n",
       "      <th></th>\n",
       "      <th>smiles</th>\n",
       "      <th>zid</th>\n",
       "    </tr>\n",
       "  </thead>\n",
       "  <tbody>\n",
       "    <tr>\n",
       "      <th>3636620</th>\n",
       "      <td>C[NH2+]CC(=O)Nc1ccc(cc1F)Cl</td>\n",
       "      <td>ZINC34979665</td>\n",
       "    </tr>\n",
       "    <tr>\n",
       "      <th>8319688</th>\n",
       "      <td>CO[C@H]1CCCC[C@H]1NC(=O)N2CCCC[C@@H]2CN3CCCC3=O</td>\n",
       "      <td>ZINC80485826</td>\n",
       "    </tr>\n",
       "    <tr>\n",
       "      <th>6889087</th>\n",
       "      <td>CCc1cc(nc(n1)Nc2c(cccc2F)F)OCC(=O)[O-]</td>\n",
       "      <td>ZINC73701994</td>\n",
       "    </tr>\n",
       "    <tr>\n",
       "      <th>7405201</th>\n",
       "      <td>C[C@H](C(=O)Nc1cccc(c1)NCc2cc3ccccc3[nH]c2=O)OC</td>\n",
       "      <td>ZINC76867526</td>\n",
       "    </tr>\n",
       "    <tr>\n",
       "      <th>8860374</th>\n",
       "      <td>Cc1ccccc1NC(=O)N[C@@](C)(CO)C2CC2</td>\n",
       "      <td>ZINC84868489</td>\n",
       "    </tr>\n",
       "  </tbody>\n",
       "</table>\n",
       "</div>"
      ],
      "text/plain": [
       "                                                  smiles           zid\n",
       "3636620                      C[NH2+]CC(=O)Nc1ccc(cc1F)Cl  ZINC34979665\n",
       "8319688  CO[C@H]1CCCC[C@H]1NC(=O)N2CCCC[C@@H]2CN3CCCC3=O  ZINC80485826\n",
       "6889087           CCc1cc(nc(n1)Nc2c(cccc2F)F)OCC(=O)[O-]  ZINC73701994\n",
       "7405201  C[C@H](C(=O)Nc1cccc(c1)NCc2cc3ccccc3[nH]c2=O)OC  ZINC76867526\n",
       "8860374                Cc1ccccc1NC(=O)N[C@@](C)(CO)C2CC2  ZINC84868489"
      ]
     },
     "execution_count": 2,
     "metadata": {},
     "output_type": "execute_result"
    }
   ],
   "source": [
    "# Import data, keep only 310K random molecules\n",
    "data = pd.read_csv(\"../exp4/cldr.smi\", header = None, sep = ' ', names = ['smiles','zid'])\n",
    "data = data.sample(n = 320000, random_state = 123)\n",
    "data.head()"
   ]
  },
  {
   "cell_type": "code",
   "execution_count": 3,
   "metadata": {},
   "outputs": [
    {
     "name": "stderr",
     "output_type": "stream",
     "text": [
      "RDKit ERROR: [11:27:20] Explicit valence for atom # 9 N, 5, is greater than permitted\n"
     ]
    }
   ],
   "source": [
    "n = data.shape[0]\n",
    "corr_smi_yn = [x != None for x in [Chem.MolFromSmiles(s) for s in data.smiles]]\n",
    "data = data[corr_smi_yn]\n",
    "data = data[1:310000]"
   ]
  },
  {
   "cell_type": "code",
   "execution_count": 4,
   "metadata": {},
   "outputs": [],
   "source": [
    "# Add descriptor columns and use nonisomeric SMILES\n",
    "data['mol'] = data['smiles'].apply(Chem.MolFromSmiles)\n",
    "data[\"smi\"] = data['mol'].apply(Chem.MolToSmiles, isomericSmiles=False)\n",
    "data['tpsa'] = data['mol'].apply(Descriptors.TPSA)\n",
    "data['mr'] = data['mol'].apply(Descriptors.MolMR)\n",
    "data['lasa'] = data['mol'].apply(Descriptors.LabuteASA)"
   ]
  },
  {
   "cell_type": "code",
   "execution_count": 5,
   "metadata": {},
   "outputs": [],
   "source": [
    "data[[\"smi\",\"zid\",\"tpsa\",\"mr\",\"lasa\"]].to_csv(\"./exp5set.csv\", index = False)"
   ]
  },
  {
   "cell_type": "code",
   "execution_count": 29,
   "metadata": {},
   "outputs": [
    {
     "data": {
      "text/plain": [
       "array([[<matplotlib.axes._subplots.AxesSubplot object at 0x7f26931120d0>,\n",
       "        <matplotlib.axes._subplots.AxesSubplot object at 0x7f2692ce5d50>,\n",
       "        <matplotlib.axes._subplots.AxesSubplot object at 0x7f26934c7bd0>]],\n",
       "      dtype=object)"
      ]
     },
     "execution_count": 29,
     "metadata": {},
     "output_type": "execute_result"
    },
    {
     "data": {
      "image/png": "[encoded data removed]",
      "text/plain": [
       "<Figure size 1080x288 with 3 Axes>"
      ]
     },
     "metadata": {
      "needs_background": "light"
     },
     "output_type": "display_data"
    }
   ],
   "source": [
    "%matplotlib inline\n",
    "import matplotlib.pyplot as plt\n",
    "data[[\"tpsa\",\"mr\",\"lasa\"]].hist(bins = 50, layout = (1,3), figsize = (15,4))"
   ]
  },
  {
   "cell_type": "code",
   "execution_count": null,
   "metadata": {},
   "outputs": [],
   "source": []
  }
 ],
 "metadata": {
  "kernelspec": {
   "display_name": "Python 2",
   "language": "python",
   "name": "python2"
  },
  "language_info": {
   "codemirror_mode": {
    "name": "ipython",
    "version": 2
   },
   "file_extension": ".py",
   "mimetype": "text/x-python",
   "name": "python",
   "nbconvert_exporter": "python",
   "pygments_lexer": "ipython2",
   "version": "2.7.15"
  }
 },
 "nbformat": 4,
 "nbformat_minor": 2
}
