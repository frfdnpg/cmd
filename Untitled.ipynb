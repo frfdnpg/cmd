{
 "cells": [
  {
   "cell_type": "code",
   "execution_count": 1,
   "metadata": {},
   "outputs": [
    {
     "data": {
      "text/plain": [
       "25"
      ]
     },
     "execution_count": 1,
     "metadata": {},
     "output_type": "execute_result"
    }
   ],
   "source": [
    "2+23"
   ]
  },
  {
   "cell_type": "code",
   "execution_count": 2,
   "metadata": {},
   "outputs": [],
   "source": [
    "from __future__ import print_function\n",
    "\n",
    "import numpy as np\n",
    "import pandas as pds\n",
    "from preprocessing import smiles_to_seq, vectorize\n",
    "import SSVAE\n",
    "\n",
    "from preprocessing import get_property, canonocalize\n",
    "from sklearn.preprocessing import StandardScaler\n",
    "from sklearn.metrics import mean_absolute_error\n",
    "\n",
    "\n",
    "# pre-defined parameters\n",
    "frac=0.5\n",
    "beta=10000.\n",
    "char_set=[' ','1','2','3','4','5','6','7','8','9','-','#','(',')','[',']','+','=','B','Br','c','C','Cl','F','H','I','N','n','O','o','P','p','S','s','Si','Sn']\n",
    "data_uri='./data/ZINC_310k.csv'\n",
    "save_uri='./zinc_model.ckpt'\n",
    "\n",
    "ntrn=300000\n",
    "frac_val=0.05\n",
    "ntst=10000"
   ]
  },
  {
   "cell_type": "code",
   "execution_count": 3,
   "metadata": {},
   "outputs": [
    {
     "name": "stderr",
     "output_type": "stream",
     "text": [
      "/home/gcolmenarejo/anaconda3/envs/tf35/lib/python3.5/site-packages/ipykernel_launcher.py:1: FutureWarning: Method .as_matrix will be removed in a future version. Use .values instead.\n",
      "  \"\"\"Entry point for launching an IPython kernel.\n",
      "/home/gcolmenarejo/anaconda3/envs/tf35/lib/python3.5/site-packages/ipykernel_launcher.py:2: FutureWarning: Method .as_matrix will be removed in a future version. Use .values instead.\n",
      "  \n"
     ]
    }
   ],
   "source": [
    "smiles = pds.read_csv(data_uri).as_matrix()[:ntrn+ntst,0] #0: SMILES\n",
    "Y = np.asarray(pds.read_csv(data_uri).as_matrix()[:ntrn+ntst,1:], dtype=np.float32) # 1: MolWT, 2: LogP, 3: QED"
   ]
  },
  {
   "cell_type": "code",
   "execution_count": 4,
   "metadata": {},
   "outputs": [
    {
     "data": {
      "text/plain": [
       "(310000,)"
      ]
     },
     "execution_count": 4,
     "metadata": {},
     "output_type": "execute_result"
    }
   ],
   "source": [
    "smiles.shape"
   ]
  },
  {
   "cell_type": "code",
   "execution_count": 5,
   "metadata": {},
   "outputs": [
    {
     "ename": "IndexError",
     "evalue": "too many indices for array",
     "output_type": "error",
     "traceback": [
      "\u001b[0;31m---------------------------------------------------------------------------\u001b[0m",
      "\u001b[0;31mIndexError\u001b[0m                                Traceback (most recent call last)",
      "\u001b[0;32m<ipython-input-5-d0e8425cf15a>\u001b[0m in \u001b[0;36m<module>\u001b[0;34m()\u001b[0m\n\u001b[0;32m----> 1\u001b[0;31m \u001b[0msmiles\u001b[0m\u001b[0;34m[\u001b[0m\u001b[0;36m1\u001b[0m\u001b[0;34m,\u001b[0m\u001b[0;36m1\u001b[0m\u001b[0;34m]\u001b[0m\u001b[0;34m\u001b[0m\u001b[0m\n\u001b[0m",
      "\u001b[0;31mIndexError\u001b[0m: too many indices for array"
     ]
    }
   ],
   "source": [
    "smiles[1,1]"
   ]
  },
  {
   "cell_type": "code",
   "execution_count": 6,
   "metadata": {},
   "outputs": [
    {
     "data": {
      "text/plain": [
       "'COc1ccc(N2CC(C(=O)Oc3cc(C)ccc3C)CC2=O)cc1'"
      ]
     },
     "execution_count": 6,
     "metadata": {},
     "output_type": "execute_result"
    }
   ],
   "source": [
    "smiles[1]"
   ]
  },
  {
   "cell_type": "code",
   "execution_count": 7,
   "metadata": {},
   "outputs": [
    {
     "data": {
      "text/plain": [
       "(310000, 3)"
      ]
     },
     "execution_count": 7,
     "metadata": {},
     "output_type": "execute_result"
    }
   ],
   "source": [
    "Y.shape"
   ]
  },
  {
   "cell_type": "code",
   "execution_count": 11,
   "metadata": {},
   "outputs": [
    {
     "data": {
      "text/plain": [
       "array([339.14706  ,   3.27054  ,   0.6336047], dtype=float32)"
      ]
     },
     "execution_count": 11,
     "metadata": {},
     "output_type": "execute_result"
    }
   ],
   "source": [
    "Y[1]"
   ]
  },
  {
   "cell_type": "code",
   "execution_count": 12,
   "metadata": {},
   "outputs": [],
   "source": [
    "def vectorize(list_input, char_set):\n",
    "\n",
    "    one_hot = np.zeros((list_input.shape[0], list_input.shape[1]+4, len(char_set)), dtype=np.int32)\n",
    "\n",
    "    for si, ss in enumerate(list_input):\n",
    "        for cj, cc in enumerate(ss):\n",
    "            one_hot[si,cj+1,cc] = 1\n",
    "\n",
    "        one_hot[si,-1,0] = 1\n",
    "        one_hot[si,-2,0] = 1\n",
    "        one_hot[si,-3,0] = 1\n",
    "\n",
    "    return one_hot[:,0:-1,:], one_hot[:,1:,:]\n",
    "\n",
    "\n",
    "\n",
    "\n",
    "def smiles_to_seq(smiles, char_set):\n",
    "\n",
    "    char_to_int = dict((c,i) for i,c in enumerate(char_set))\n",
    "    \n",
    "    list_seq=[]\n",
    "    for s in smiles:\n",
    "        seq=[]                \n",
    "        j=0\n",
    "        while j<len(s):\n",
    "            if j<len(s)-1 and s[j:j+2] in char_set:\n",
    "                seq.append(char_to_int[s[j:j+2]])\n",
    "                j=j+2\n",
    "    \n",
    "            elif s[j] in char_set:\n",
    "                seq.append(char_to_int[s[j]])\n",
    "                j=j+1\n",
    "    \n",
    "        list_seq.append(seq)\n",
    "    \n",
    "    list_seq = preprocessing.sequence.pad_sequences(list_seq, padding='post')\n",
    "    \n",
    "    return list_seq"
   ]
  },
  {
   "cell_type": "code",
   "execution_count": 14,
   "metadata": {},
   "outputs": [],
   "source": [
    "import numpy as np\n",
    "from rdkit import Chem\n",
    "from rdkit.Chem import Descriptors, QED\n",
    "from tensorflow.contrib.keras import preprocessing\n",
    "\n",
    "\n",
    "list_seq = smiles_to_seq(smiles, char_set)"
   ]
  },
  {
   "cell_type": "code",
   "execution_count": 49,
   "metadata": {},
   "outputs": [
    {
     "name": "stdout",
     "output_type": "stream",
     "text": [
      "[[0 0 0 ... 0 0 0]\n",
      " [0 0 0 ... 0 0 0]\n",
      " [0 0 0 ... 0 0 0]\n",
      " ...\n",
      " [0 0 0 ... 0 0 0]\n",
      " [0 0 0 ... 0 0 0]\n",
      " [0 0 0 ... 0 0 0]]\n"
     ]
    }
   ],
   "source": [
    " one_hot = np.zeros((list_seq.shape[0], list_seq.shape[1]+4, len(char_set)), dtype=np.int32)\n",
    "print(one_hot[1])"
   ]
  },
  {
   "cell_type": "code",
   "execution_count": 65,
   "metadata": {},
   "outputs": [
    {
     "name": "stdout",
     "output_type": "stream",
     "text": [
      "0 [21 28 20  1 20 20 12 22 13 20 20  2 20  1 28 21 12 21 13 21 12 17 28 13\n",
      " 26 12 20  1 20 12 23 13 20 20 20 20  1 23 13 21  2  0  0  0  0  0  0  0\n",
      "  0  0  0  0  0  0  0  0  0  0  0  0  0  0  0  0  0  0  0  0  0  0  0  0\n",
      "  0  0  0  0  0  0  0  0  0  0  0  0  0  0]\n",
      "[[0 0 0 ... 0 0 0]\n",
      " [0 0 0 ... 0 0 0]\n",
      " [0 0 0 ... 0 0 0]\n",
      " ...\n",
      " [1 0 0 ... 0 0 0]\n",
      " [1 0 0 ... 0 0 0]\n",
      " [1 0 0 ... 0 0 0]]\n"
     ]
    }
   ],
   "source": [
    "for si, ss in enumerate(list_seq):\n",
    "    if si < 1:\n",
    "        print(si,ss)\n",
    "        for cj, cc in enumerate(ss):\n",
    "            one_hot[si,cj+1,cc] = 1\n",
    "        print(one_hot[si])\n",
    "        one_hot[si,-1,0] = 1\n",
    "        one_hot[si,-2,0] = 1\n",
    "        one_hot[si,-3,0] = 1\n"
   ]
  },
  {
   "cell_type": "code",
   "execution_count": 63,
   "metadata": {},
   "outputs": [],
   "source": [
    "for cj, cc in enumerate(ss):\n",
    "    one_hot[si,cj+1,cc] = 1"
   ]
  },
  {
   "cell_type": "code",
   "execution_count": 95,
   "metadata": {},
   "outputs": [
    {
     "data": {
      "text/plain": [
       "(310000, 86)"
      ]
     },
     "execution_count": 95,
     "metadata": {},
     "output_type": "execute_result"
    }
   ],
   "source": [
    "list_seq.shape"
   ]
  },
  {
   "cell_type": "code",
   "execution_count": 68,
   "metadata": {},
   "outputs": [],
   "source": [
    "Xs, X=vectorize(list_seq, char_set)"
   ]
  },
  {
   "cell_type": "code",
   "execution_count": 69,
   "metadata": {},
   "outputs": [
    {
     "data": {
      "text/plain": [
       "(310000, 89, 36)"
      ]
     },
     "execution_count": 69,
     "metadata": {},
     "output_type": "execute_result"
    }
   ],
   "source": [
    "Xs.shape"
   ]
  },
  {
   "cell_type": "code",
   "execution_count": 94,
   "metadata": {},
   "outputs": [
    {
     "data": {
      "text/plain": [
       "(310000, 86)"
      ]
     },
     "execution_count": 94,
     "metadata": {},
     "output_type": "execute_result"
    }
   ],
   "source": [
    "list_seq.shape"
   ]
  },
  {
   "cell_type": "code",
   "execution_count": 27,
   "metadata": {},
   "outputs": [
    {
     "data": {
      "text/plain": [
       "86"
      ]
     },
     "execution_count": 27,
     "metadata": {},
     "output_type": "execute_result"
    }
   ],
   "source": [
    "len(max(smiles, key = len))"
   ]
  },
  {
   "cell_type": "code",
   "execution_count": 33,
   "metadata": {},
   "outputs": [
    {
     "name": "stdout",
     "output_type": "stream",
     "text": [
      "0 [21 28 20  1 20 20 12 22 13 20 20  2 20  1 28 21 12 21 13 21 12 17 28 13\n",
      " 26 12 20  1 20 12 23 13 20 20 20 20  1 23 13 21  2  0  0  0  0  0  0  0\n",
      "  0  0  0  0  0  0  0  0  0  0  0  0  0  0  0  0  0  0  0  0  0  0  0  0\n",
      "  0  0  0  0  0  0  0  0  0  0  0  0  0  0]\n",
      "1 [21 28 20  1 20 20 20 12 26  2 21 21 12 21 12 17 28 13 28 20  3 20 20 12\n",
      " 21 13 20 20 20  3 21 13 21 21  2 17 28 13 20 20  1  0  0  0  0  0  0  0\n",
      "  0  0  0  0  0  0  0  0  0  0  0  0  0  0  0  0  0  0  0  0  0  0  0  0\n",
      "  0  0  0  0  0  0  0  0  0  0  0  0  0  0]\n",
      "2 [21 21  1 21 21 21 12 21 12 26 13 17 28 13 21 26  1 21 12 17 28 13 26 20\n",
      "  1 20 27 27 12 21 12 21 13 12 21 13 21 13 20  1  0  0  0  0  0  0  0  0\n",
      "  0  0  0  0  0  0  0  0  0  0  0  0  0  0  0  0  0  0  0  0  0  0  0  0\n",
      "  0  0  0  0  0  0  0  0  0  0  0  0  0  0]\n",
      "3 [21 26 12 21 20  1 27 20  2 20 20 20 20 20  2 20 12 17 28 13 14 27 24 15\n",
      "  1 13 21 12 17 28 13 20  1 20 27  2 20 20 20 20 20  2 27  1  0  0  0  0\n",
      "  0  0  0  0  0  0  0  0  0  0  0  0  0  0  0  0  0  0  0  0  0  0  0  0\n",
      "  0  0  0  0  0  0  0  0  0  0  0  0  0  0]\n",
      "4 [21 21 12 21 13 20  1 27 29 20 12 21 12 21 13 26  2 21 21 26 12 21 21 12\n",
      " 17 28 13 26 12 21 13 21 13 21 21  2 13 27  1  0  0  0  0  0  0  0  0  0\n",
      "  0  0  0  0  0  0  0  0  0  0  0  0  0  0  0  0  0  0  0  0  0  0  0  0\n",
      "  0  0  0  0  0  0  0  0  0  0  0  0  0  0]\n",
      "5 [21 20  1 20 33 20 12 32 21 21 12 28 13 20  2 20 20 20 12 23 13 20 20  2\n",
      " 13 27  1  0  0  0  0  0  0  0  0  0  0  0  0  0  0  0  0  0  0  0  0  0\n",
      "  0  0  0  0  0  0  0  0  0  0  0  0  0  0  0  0  0  0  0  0  0  0  0  0\n",
      "  0  0  0  0  0  0  0  0  0  0  0  0  0  0]\n",
      "6 [21 28 21 12 17 28 13 21 21 12 26 21 12 17 28 13 20  1 20 27 20 12 26 21\n",
      " 12 17 28 13 28 21 21  2 20  3 20 20 20 20 20  3 10 20  3 20 20 20 20 20\n",
      "  3  2 13 33  1 13 21 12 17 28 13 28  0  0  0  0  0  0  0  0  0  0  0  0\n",
      "  0  0  0  0  0  0  0  0  0  0  0  0  0  0]\n",
      "7 [28 26 17 21  1 21 21 21 21 21  1 17 21 21 17 21 20  1 20 20 20 20 20  1\n",
      "  0  0  0  0  0  0  0  0  0  0  0  0  0  0  0  0  0  0  0  0  0  0  0  0\n",
      "  0  0  0  0  0  0  0  0  0  0  0  0  0  0  0  0  0  0  0  0  0  0  0  0\n",
      "  0  0  0  0  0  0  0  0  0  0  0  0  0  0]\n",
      "8 [21 21 12 21 13 26 12 21 13 21 21 12 17 28 13 26  1 21 21 26 12 21  2 21\n",
      " 21 21 21  2 28 13 21 21  1  0  0  0  0  0  0  0  0  0  0  0  0  0  0  0\n",
      "  0  0  0  0  0  0  0  0  0  0  0  0  0  0  0  0  0  0  0  0  0  0  0  0\n",
      "  0  0  0  0  0  0  0  0  0  0  0  0  0  0]\n",
      "9 [21 28 21 21 12 21 13 26 21 12 17 28 13 21 21 27  1 27 20 20 12 17 28 13\n",
      " 20  2 20 20 20 20 20  2  1  0  0  0  0  0  0  0  0  0  0  0  0  0  0  0\n",
      "  0  0  0  0  0  0  0  0  0  0  0  0  0  0  0  0  0  0  0  0  0  0  0  0\n",
      "  0  0  0  0  0  0  0  0  0  0  0  0  0  0]\n"
     ]
    }
   ],
   "source": [
    "for si, ss in enumerate(list_seq):\n",
    "    if si < 10: print(si,ss)"
   ]
  },
  {
   "cell_type": "code",
   "execution_count": 99,
   "metadata": {},
   "outputs": [],
   "source": [
    "kk = [1,2,3,6,4,6]"
   ]
  },
  {
   "cell_type": "code",
   "execution_count": 104,
   "metadata": {},
   "outputs": [
    {
     "data": {
      "text/plain": [
       "[1, 2, 3]"
      ]
     },
     "execution_count": 104,
     "metadata": {},
     "output_type": "execute_result"
    }
   ],
   "source": [
    "kk[:3]"
   ]
  },
  {
   "cell_type": "code",
   "execution_count": 105,
   "metadata": {},
   "outputs": [],
   "source": [
    "tstX=X[-ntst:]\n",
    "tstXs=Xs[-ntst:]\n",
    "tstY=Y[-ntst:]\n",
    "\n",
    "X=X[:ntrn]\n",
    "Xs=Xs[:ntrn]\n",
    "Y=Y[:ntrn]"
   ]
  },
  {
   "cell_type": "code",
   "execution_count": 106,
   "metadata": {},
   "outputs": [
    {
     "data": {
      "text/plain": [
       "(10000, 89, 36)"
      ]
     },
     "execution_count": 106,
     "metadata": {},
     "output_type": "execute_result"
    }
   ],
   "source": [
    "tstX.shape"
   ]
  },
  {
   "cell_type": "code",
   "execution_count": 107,
   "metadata": {},
   "outputs": [
    {
     "data": {
      "text/plain": [
       "(300000, 89, 36)"
      ]
     },
     "execution_count": 107,
     "metadata": {},
     "output_type": "execute_result"
    }
   ],
   "source": [
    "X.shape"
   ]
  },
  {
   "cell_type": "code",
   "execution_count": 116,
   "metadata": {},
   "outputs": [
    {
     "data": {
      "text/plain": [
       "array([0, 0, 0, 0, 0, 0, 0, 0, 0, 0, 0, 0, 0, 0, 0, 0, 1, 0, 0, 0, 0, 0,\n",
       "       0, 0, 0, 0, 0, 0, 0, 0, 0, 0, 0, 0, 0, 0], dtype=int32)"
      ]
     },
     "execution_count": 116,
     "metadata": {},
     "output_type": "execute_result"
    }
   ],
   "source": [
    "tstX[1,4]"
   ]
  },
  {
   "cell_type": "code",
   "execution_count": 118,
   "metadata": {},
   "outputs": [
    {
     "data": {
      "text/plain": [
       "array([0, 0, 0, 0, 0, 0, 0, 0, 0, 0, 0, 0, 0, 0, 0, 0, 1, 0, 0, 0, 0, 0,\n",
       "       0, 0, 0, 0, 0, 0, 0, 0, 0, 0, 0, 0, 0, 0], dtype=int32)"
      ]
     },
     "execution_count": 118,
     "metadata": {},
     "output_type": "execute_result"
    }
   ],
   "source": [
    "tstXs[1,5]"
   ]
  },
  {
   "cell_type": "code",
   "execution_count": 119,
   "metadata": {},
   "outputs": [],
   "source": [
    "nL=int(len(Y)*frac)\n",
    "nU=len(Y)-nL\n",
    "nL_trn=int(nL*(1-frac_val))\n",
    "nL_val=nL-nL_trn\n",
    "nU_trn=int(nU*(1-frac_val))\n",
    "nU_val=nU-nU_trn\n",
    "perm_id=np.random.permutation(len(Y))\n",
    "\n",
    "trnX_L=X[perm_id[:nL_trn]]\n",
    "trnXs_L=Xs[perm_id[:nL_trn]]\n",
    "trnY_L=Y[perm_id[:nL_trn]]\n",
    "\n",
    "valX_L=X[perm_id[nL_trn:nL_trn+nL_val]]\n",
    "valXs_L=Xs[perm_id[nL_trn:nL_trn+nL_val]]\n",
    "valY_L=Y[perm_id[nL_trn:nL_trn+nL_val]]\n",
    "\n",
    "trnX_U=X[perm_id[nL_trn+nL_val:nL_trn+nL_val+nU_trn]]\n",
    "trnXs_U=Xs[perm_id[nL_trn+nL_val:nL_trn+nL_val+nU_trn]]\n",
    "\n",
    "valX_U=X[perm_id[nL_trn+nL_val+nU_trn:]]\n",
    "valXs_U=Xs[perm_id[nL_trn+nL_val+nU_trn:]]\n"
   ]
  },
  {
   "cell_type": "code",
   "execution_count": null,
   "metadata": {},
   "outputs": [],
   "source": []
  }
 ],
 "metadata": {
  "kernelspec": {
   "display_name": "Python 3",
   "language": "python",
   "name": "python3"
  },
  "language_info": {
   "codemirror_mode": {
    "name": "ipython",
    "version": 3
   },
   "file_extension": ".py",
   "mimetype": "text/x-python",
   "name": "python",
   "nbconvert_exporter": "python",
   "pygments_lexer": "ipython3",
   "version": "3.5.6"
  }
 },
 "nbformat": 4,
 "nbformat_minor": 2
}
