{
 "cells": [
  {
   "cell_type": "code",
   "execution_count": 141,
   "metadata": {},
   "outputs": [],
   "source": [
    "import chemfp\n",
    "from chemfp import search\n",
    "import bclus\n",
    "import pandas as pd\n",
    "import time\n",
    "import sys"
   ]
  },
  {
   "cell_type": "code",
   "execution_count": 84,
   "metadata": {},
   "outputs": [],
   "source": [
    "# Import SMILES into a dataframe\n",
    "\n",
    "smi = pd.read_csv('../data/z310k.smi', delim_whitespace = True, names = ['smiles','id'], header = None)"
   ]
  },
  {
   "cell_type": "code",
   "execution_count": 149,
   "metadata": {},
   "outputs": [
    {
     "name": "stdout",
     "output_type": "stream",
     "text": [
      "00:09:43\n"
     ]
    }
   ],
   "source": [
    "# Generate RDKit FPs\n",
    "\n",
    "import subprocess as sp\n",
    "\n",
    "start = time.time()\n",
    "\n",
    "sp.call(['rdkit2fps', '../data/z310k.smi', '-o', 'z310k.fps'])\n",
    "\n",
    "end = time.time()\n",
    "\n",
    "elapsed_time = end - start\n",
    "print(time.strftime(\"%H:%M:%S\", time.gmtime(elapsed_time)))"
   ]
  },
  {
   "cell_type": "code",
   "execution_count": 150,
   "metadata": {},
   "outputs": [],
   "source": [
    "# Load the FPs into an arena\n",
    "\n",
    "try:\n",
    "    arena = chemfp.load_fingerprints('./z310k.fps')\n",
    "except IOError as err:\n",
    "    sys.stderr.write(\"Cannot open fingerprint file: %s\" % (err,))\n",
    "    raise SystemExit(2)"
   ]
  },
  {
   "cell_type": "code",
   "execution_count": 152,
   "metadata": {},
   "outputs": [
    {
     "name": "stdout",
     "output_type": "stream",
     "text": [
      "00:01:26\n"
     ]
    }
   ],
   "source": [
    "# Generate the similarity table\n",
    "start = time.time()\n",
    "\n",
    "similarity_table = search.threshold_tanimoto_search_symmetric(arena, threshold = 0.8)\n",
    "\n",
    "end = time.time()\n",
    "\n",
    "elapsed_time = end - start\n",
    "print(time.strftime(\"%H:%M:%S\", time.gmtime(elapsed_time)))"
   ]
  },
  {
   "cell_type": "code",
   "execution_count": 153,
   "metadata": {},
   "outputs": [],
   "source": [
    "# Cluster the data\n",
    "\n",
    "clus_res = bclus.taylor_butina_cluster(similarity_table)"
   ]
  },
  {
   "cell_type": "code",
   "execution_count": 230,
   "metadata": {},
   "outputs": [],
   "source": [
    "# Generate dataframe with results\n",
    "\n",
    "cldf = pd.DataFrame(columns = ['clid','id','centryn','smiles'])"
   ]
  },
  {
   "cell_type": "code",
   "execution_count": null,
   "metadata": {},
   "outputs": [],
   "source": [
    "# Method by filling previously created NaNs dataframe\n",
    "\n",
    "start = time.time()\n",
    "\n",
    "i = 0\n",
    "\n",
    "cldf2 = pd.DataFrame(index = range(len(smi)), columns = ['clid','id','centryn','smiles'])\n",
    "\n",
    "for clid in range(len(clus_res.clusters)):\n",
    "    cent_id = clus_res.clusters[clid][0] \n",
    "    cldf2.loc[i] = [clid+1,cent_id,1,'cc']\n",
    "    i = i+1\n",
    "    mems = list(clus_res.clusters[clid][1])\n",
    "    for mem in mems:\n",
    "        cldf2.loc[i] = [clid+1,mem,0,'c1c1']\n",
    "        i = i+1\n",
    "        \n",
    "end = time.time()\n",
    "\n",
    "elapsed_time = end - start\n",
    "print(time.strftime(\"%H:%M:%S\", time.gmtime(elapsed_time)))"
   ]
  },
  {
   "cell_type": "code",
   "execution_count": 231,
   "metadata": {},
   "outputs": [
    {
     "name": "stdout",
     "output_type": "stream",
     "text": [
      "01:14:12\n"
     ]
    }
   ],
   "source": [
    "# Method by concats\n",
    "\n",
    "start = time.time()\n",
    "\n",
    "i = 0\n",
    "\n",
    "for clid in range(len(clus_res.clusters)):\n",
    "    cent_id = clus_res.clusters[clid][0] \n",
    "    pd.DataFrame([[clid+1, mem, 0, 'cc1']], columns = ['clid','id','centryn','smiles'])\n",
    "    i = i+1\n",
    "    mems = list(clus_res.clusters[clid][1])\n",
    "    for mem in mems:\n",
    "        line = pd.DataFrame([[clid+1, mem, 0, 'cc1']], columns = ['clid','id','centryn','smiles'])\n",
    "        cldf = pd.concat([cldf, line])\n",
    "        i = i+1\n",
    "        \n",
    "end = time.time()\n",
    "\n",
    "elapsed_time = end - start\n",
    "print(time.strftime(\"%H:%M:%S\", time.gmtime(elapsed_time)))"
   ]
  },
  {
   "cell_type": "code",
   "execution_count": 224,
   "metadata": {},
   "outputs": [
    {
     "data": {
      "text/html": [
       "<div>\n",
       "<style scoped>\n",
       "    .dataframe tbody tr th:only-of-type {\n",
       "        vertical-align: middle;\n",
       "    }\n",
       "\n",
       "    .dataframe tbody tr th {\n",
       "        vertical-align: top;\n",
       "    }\n",
       "\n",
       "    .dataframe thead th {\n",
       "        text-align: right;\n",
       "    }\n",
       "</style>\n",
       "<table border=\"1\" class=\"dataframe\">\n",
       "  <thead>\n",
       "    <tr style=\"text-align: right;\">\n",
       "      <th></th>\n",
       "      <th>clid</th>\n",
       "      <th>id</th>\n",
       "      <th>centryn</th>\n",
       "      <th>smiles</th>\n",
       "    </tr>\n",
       "  </thead>\n",
       "  <tbody>\n",
       "    <tr>\n",
       "      <th>0</th>\n",
       "      <td>3</td>\n",
       "      <td>147454</td>\n",
       "      <td>0</td>\n",
       "      <td>cc1</td>\n",
       "    </tr>\n",
       "  </tbody>\n",
       "</table>\n",
       "</div>"
      ],
      "text/plain": [
       "   clid      id  centryn smiles\n",
       "0     3  147454        0    cc1"
      ]
     },
     "execution_count": 224,
     "metadata": {},
     "output_type": "execute_result"
    }
   ],
   "source": [
    "pd.DataFrame([[clid+1, mem, 0, 'cc1']], columns = ['clid','id','centryn','smiles'])"
   ]
  },
  {
   "cell_type": "code",
   "execution_count": 240,
   "metadata": {},
   "outputs": [],
   "source": [
    "clid = 0\n",
    "cent_id = clus_res.clusters[clid][0] \n",
    "cent_id\n",
    "cldf2.loc[0] = [clid+1,cent_id,1,'cc']"
   ]
  },
  {
   "cell_type": "code",
   "execution_count": 241,
   "metadata": {},
   "outputs": [
    {
     "data": {
      "text/html": [
       "<div>\n",
       "<style scoped>\n",
       "    .dataframe tbody tr th:only-of-type {\n",
       "        vertical-align: middle;\n",
       "    }\n",
       "\n",
       "    .dataframe tbody tr th {\n",
       "        vertical-align: top;\n",
       "    }\n",
       "\n",
       "    .dataframe thead th {\n",
       "        text-align: right;\n",
       "    }\n",
       "</style>\n",
       "<table border=\"1\" class=\"dataframe\">\n",
       "  <thead>\n",
       "    <tr style=\"text-align: right;\">\n",
       "      <th></th>\n",
       "      <th>clid</th>\n",
       "      <th>id</th>\n",
       "      <th>centryn</th>\n",
       "      <th>smiles</th>\n",
       "    </tr>\n",
       "  </thead>\n",
       "  <tbody>\n",
       "    <tr>\n",
       "      <th>0</th>\n",
       "      <td>1</td>\n",
       "      <td>176706</td>\n",
       "      <td>1</td>\n",
       "      <td>cc</td>\n",
       "    </tr>\n",
       "    <tr>\n",
       "      <th>1</th>\n",
       "      <td>NaN</td>\n",
       "      <td>NaN</td>\n",
       "      <td>NaN</td>\n",
       "      <td>NaN</td>\n",
       "    </tr>\n",
       "    <tr>\n",
       "      <th>2</th>\n",
       "      <td>NaN</td>\n",
       "      <td>NaN</td>\n",
       "      <td>NaN</td>\n",
       "      <td>NaN</td>\n",
       "    </tr>\n",
       "    <tr>\n",
       "      <th>3</th>\n",
       "      <td>NaN</td>\n",
       "      <td>NaN</td>\n",
       "      <td>NaN</td>\n",
       "      <td>NaN</td>\n",
       "    </tr>\n",
       "    <tr>\n",
       "      <th>4</th>\n",
       "      <td>NaN</td>\n",
       "      <td>NaN</td>\n",
       "      <td>NaN</td>\n",
       "      <td>NaN</td>\n",
       "    </tr>\n",
       "  </tbody>\n",
       "</table>\n",
       "</div>"
      ],
      "text/plain": [
       "  clid      id centryn smiles\n",
       "0    1  176706       1     cc\n",
       "1  NaN     NaN     NaN    NaN\n",
       "2  NaN     NaN     NaN    NaN\n",
       "3  NaN     NaN     NaN    NaN\n",
       "4  NaN     NaN     NaN    NaN"
      ]
     },
     "execution_count": 241,
     "metadata": {},
     "output_type": "execute_result"
    }
   ],
   "source": [
    "cldf2.head()"
   ]
  },
  {
   "cell_type": "code",
   "execution_count": 248,
   "metadata": {},
   "outputs": [
    {
     "data": {
      "text/plain": [
       "176705    Cn1c(=O)n(C)c2cc(C=NO)ccc21\n",
       "Name: smiles, dtype: object"
      ]
     },
     "execution_count": 248,
     "metadata": {},
     "output_type": "execute_result"
    }
   ],
   "source": [
    "smi[smi['id']==cent_id]['smiles']"
   ]
  },
  {
   "cell_type": "code",
   "execution_count": null,
   "metadata": {},
   "outputs": [],
   "source": []
  }
 ],
 "metadata": {
  "kernelspec": {
   "display_name": "Python 2",
   "language": "python",
   "name": "python2"
  },
  "language_info": {
   "codemirror_mode": {
    "name": "ipython",
    "version": 2
   },
   "file_extension": ".py",
   "mimetype": "text/x-python",
   "name": "python",
   "nbconvert_exporter": "python",
   "pygments_lexer": "ipython2",
   "version": "2.7.15"
  }
 },
 "nbformat": 4,
 "nbformat_minor": 2
}
