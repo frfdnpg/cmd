{
 "cells": [
  {
   "cell_type": "markdown",
   "metadata": {},
   "source": [
    "This scripts aims at analyzing the output of the CMD tuned for natural products: correctness, diversity and novelty. Two iterations are used: first, 50K compounds are used as training set, and then the whole set of natural products of ZINC12. "
   ]
  },
  {
   "cell_type": "code",
   "execution_count": 4,
   "metadata": {},
   "outputs": [],
   "source": [
    "# Import myfunc at cix folder\n",
    "%matplotlib inline\n",
    "import matplotlib.pyplot as plt\n",
    "import sys\n",
    "sys.path.insert(0, '../cix')\n",
    "import myfuncs as mf\n",
    "import pandas as pd\n",
    "from rdkit import rdBase\n",
    "rdBase.DisableLog('rdApp.*') # To make rdkit silent\n",
    "from rdkit.Chem import PandasTools as pt\n",
    "from rdkit.Chem import Descriptors\n",
    "import numpy as np"
   ]
  },
  {
   "cell_type": "code",
   "execution_count": 5,
   "metadata": {},
   "outputs": [],
   "source": [
    "it = [50000, 81661]\n",
    "nit = len(it)"
   ]
  },
  {
   "cell_type": "code",
   "execution_count": 13,
   "metadata": {},
   "outputs": [
    {
     "name": "stdout",
     "output_type": "stream",
     "text": [
      "Clustering time: 00:03:25\n",
      "Diversity analysis time: 00:06:39\n",
      "Clustering time: 00:00:19\n",
      "Diversity analysis time: 00:00:37\n",
      "Arenas creation time: 00:03:36\n",
      "Novelty analysis time: 00:07:00\n",
      "Clustering time: 00:05:52\n",
      "Diversity analysis time: 00:11:19\n",
      "Clustering time: 00:00:19\n",
      "Diversity analysis time: 00:00:36\n",
      "Arenas creation time: 00:05:52\n",
      "Novelty analysis time: 00:11:40\n"
     ]
    }
   ],
   "source": [
    "#######################################\n",
    "### Unconditional CMD output molecules\n",
    "#######################################\n",
    "\n",
    "df_un, cls = mf.wholean(it = it, name_train = \"train\", name_pref = \"unc\")"
   ]
  },
  {
   "cell_type": "code",
   "execution_count": 15,
   "metadata": {},
   "outputs": [
    {
     "data": {
      "text/html": [
       "<div>\n",
       "<style scoped>\n",
       "    .dataframe tbody tr th:only-of-type {\n",
       "        vertical-align: middle;\n",
       "    }\n",
       "\n",
       "    .dataframe tbody tr th {\n",
       "        vertical-align: top;\n",
       "    }\n",
       "\n",
       "    .dataframe thead th {\n",
       "        text-align: right;\n",
       "    }\n",
       "</style>\n",
       "<table border=\"1\" class=\"dataframe\">\n",
       "  <thead>\n",
       "    <tr style=\"text-align: right;\">\n",
       "      <th></th>\n",
       "      <th># train</th>\n",
       "      <th>%corr inp</th>\n",
       "      <th># clus inp</th>\n",
       "      <th># fram inp</th>\n",
       "      <th># gen fram inp</th>\n",
       "      <th># out</th>\n",
       "      <th>%corr out</th>\n",
       "      <th># clus out</th>\n",
       "      <th># fram out</th>\n",
       "      <th># gen fram out</th>\n",
       "      <th>% new str</th>\n",
       "      <th>% new fram</th>\n",
       "      <th>% new gen fram</th>\n",
       "    </tr>\n",
       "  </thead>\n",
       "  <tbody>\n",
       "    <tr>\n",
       "      <th>1</th>\n",
       "      <td>50000.0</td>\n",
       "      <td>100.0</td>\n",
       "      <td>10222.0</td>\n",
       "      <td>15128.0</td>\n",
       "      <td>32105.0</td>\n",
       "      <td>5000.0</td>\n",
       "      <td>95.04</td>\n",
       "      <td>1471.0</td>\n",
       "      <td>1672.0</td>\n",
       "      <td>2773.0</td>\n",
       "      <td>4.68</td>\n",
       "      <td>17.46</td>\n",
       "      <td>28.67</td>\n",
       "    </tr>\n",
       "    <tr>\n",
       "      <th>2</th>\n",
       "      <td>81661.0</td>\n",
       "      <td>100.0</td>\n",
       "      <td>13517.0</td>\n",
       "      <td>22207.0</td>\n",
       "      <td>52264.0</td>\n",
       "      <td>5000.0</td>\n",
       "      <td>93.40</td>\n",
       "      <td>1744.0</td>\n",
       "      <td>1974.0</td>\n",
       "      <td>3134.0</td>\n",
       "      <td>4.28</td>\n",
       "      <td>15.86</td>\n",
       "      <td>23.77</td>\n",
       "    </tr>\n",
       "  </tbody>\n",
       "</table>\n",
       "</div>"
      ],
      "text/plain": [
       "   # train  %corr inp  # clus inp  # fram inp  # gen fram inp   # out  %corr out  # clus out  # fram out  # gen fram out  % new str  % new fram  % new gen fram\n",
       "1  50000.0      100.0     10222.0     15128.0         32105.0  5000.0      95.04      1471.0      1672.0          2773.0       4.68       17.46           28.67\n",
       "2  81661.0      100.0     13517.0     22207.0         52264.0  5000.0      93.40      1744.0      1974.0          3134.0       4.28       15.86           23.77"
      ]
     },
     "execution_count": 15,
     "metadata": {},
     "output_type": "execute_result"
    }
   ],
   "source": [
    "df_un"
   ]
  },
  {
   "cell_type": "code",
   "execution_count": 18,
   "metadata": {},
   "outputs": [],
   "source": [
    "df_un.to_csv(\"npan-un.csv\")"
   ]
  },
  {
   "cell_type": "code",
   "execution_count": null,
   "metadata": {},
   "outputs": [],
   "source": [
    "# Plot the cluster distributions\n",
    "mf.plotmulticlus(cls, 10, 15)"
   ]
  },
  {
   "cell_type": "code",
   "execution_count": null,
   "metadata": {},
   "outputs": [],
   "source": []
  },
  {
   "cell_type": "code",
   "execution_count": 14,
   "metadata": {},
   "outputs": [
    {
     "name": "stdout",
     "output_type": "stream",
     "text": [
      "Clustering time: 00:03:24\n",
      "Diversity analysis time: 00:06:43\n",
      "Clustering time: 00:00:10\n",
      "Diversity analysis time: 00:00:21\n",
      "Arenas creation time: 00:03:21\n",
      "Novelty analysis time: 00:06:56\n",
      "Clustering time: 00:05:53\n",
      "Diversity analysis time: 00:11:22\n",
      "Clustering time: 00:00:09\n",
      "Diversity analysis time: 00:00:20\n",
      "Arenas creation time: 00:05:45\n",
      "Novelty analysis time: 00:11:25\n"
     ]
    }
   ],
   "source": [
    "#######################################\n",
    "### Conditional CMD output molecules\n",
    "#######################################\n",
    "\n",
    "df_co, clsco = mf.wholean(it = it, name_train = \"train\", name_pref = \"con\")"
   ]
  },
  {
   "cell_type": "code",
   "execution_count": 19,
   "metadata": {},
   "outputs": [
    {
     "data": {
      "text/html": [
       "<div>\n",
       "<style scoped>\n",
       "    .dataframe tbody tr th:only-of-type {\n",
       "        vertical-align: middle;\n",
       "    }\n",
       "\n",
       "    .dataframe tbody tr th {\n",
       "        vertical-align: top;\n",
       "    }\n",
       "\n",
       "    .dataframe thead th {\n",
       "        text-align: right;\n",
       "    }\n",
       "</style>\n",
       "<table border=\"1\" class=\"dataframe\">\n",
       "  <thead>\n",
       "    <tr style=\"text-align: right;\">\n",
       "      <th></th>\n",
       "      <th># train</th>\n",
       "      <th>%corr inp</th>\n",
       "      <th># clus inp</th>\n",
       "      <th># fram inp</th>\n",
       "      <th># gen fram inp</th>\n",
       "      <th># out</th>\n",
       "      <th>%corr out</th>\n",
       "      <th># clus out</th>\n",
       "      <th># fram out</th>\n",
       "      <th># gen fram out</th>\n",
       "      <th>% new str</th>\n",
       "      <th>% new fram</th>\n",
       "      <th>% new gen fram</th>\n",
       "    </tr>\n",
       "  </thead>\n",
       "  <tbody>\n",
       "    <tr>\n",
       "      <th>1</th>\n",
       "      <td>50000.0</td>\n",
       "      <td>100.0</td>\n",
       "      <td>10222.0</td>\n",
       "      <td>15128.0</td>\n",
       "      <td>32105.0</td>\n",
       "      <td>5000.0</td>\n",
       "      <td>96.88</td>\n",
       "      <td>675.0</td>\n",
       "      <td>493.0</td>\n",
       "      <td>938.0</td>\n",
       "      <td>7.18</td>\n",
       "      <td>30.83</td>\n",
       "      <td>45.31</td>\n",
       "    </tr>\n",
       "    <tr>\n",
       "      <th>2</th>\n",
       "      <td>81661.0</td>\n",
       "      <td>100.0</td>\n",
       "      <td>13517.0</td>\n",
       "      <td>22207.0</td>\n",
       "      <td>52264.0</td>\n",
       "      <td>5000.0</td>\n",
       "      <td>93.04</td>\n",
       "      <td>900.0</td>\n",
       "      <td>623.0</td>\n",
       "      <td>1164.0</td>\n",
       "      <td>6.46</td>\n",
       "      <td>28.73</td>\n",
       "      <td>44.07</td>\n",
       "    </tr>\n",
       "  </tbody>\n",
       "</table>\n",
       "</div>"
      ],
      "text/plain": [
       "   # train  %corr inp  # clus inp  # fram inp  # gen fram inp   # out  %corr out  # clus out  # fram out  # gen fram out  % new str  % new fram  % new gen fram\n",
       "1  50000.0      100.0     10222.0     15128.0         32105.0  5000.0      96.88       675.0       493.0           938.0       7.18       30.83           45.31\n",
       "2  81661.0      100.0     13517.0     22207.0         52264.0  5000.0      93.04       900.0       623.0          1164.0       6.46       28.73           44.07"
      ]
     },
     "execution_count": 19,
     "metadata": {},
     "output_type": "execute_result"
    }
   ],
   "source": [
    "df_co"
   ]
  },
  {
   "cell_type": "code",
   "execution_count": 20,
   "metadata": {},
   "outputs": [],
   "source": [
    "df_co.to_csv(\"npan-co.csv\")"
   ]
  },
  {
   "cell_type": "code",
   "execution_count": null,
   "metadata": {},
   "outputs": [],
   "source": [
    "# Plot the cluster distributions\n",
    "mf.plotmulticlus(clsco, 10, 15)"
   ]
  },
  {
   "cell_type": "code",
   "execution_count": null,
   "metadata": {},
   "outputs": [],
   "source": []
  }
 ],
 "metadata": {
  "kernelspec": {
   "display_name": "Python 2",
   "language": "python",
   "name": "python2"
  },
  "language_info": {
   "codemirror_mode": {
    "name": "ipython",
    "version": 2
   },
   "file_extension": ".py",
   "mimetype": "text/x-python",
   "name": "python",
   "nbconvert_exporter": "python",
   "pygments_lexer": "ipython2",
   "version": "2.7.15"
  }
 },
 "nbformat": 4,
 "nbformat_minor": 2
}
