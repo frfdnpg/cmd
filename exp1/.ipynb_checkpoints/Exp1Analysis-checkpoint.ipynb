{
 "cells": [
  {
   "cell_type": "code",
   "execution_count": 68,
   "metadata": {},
   "outputs": [],
   "source": [
    "# Import myfunc at cix folder\n",
    "%matplotlib inline\n",
    "import matplotlib.pyplot as plt\n",
    "import sys\n",
    "sys.path.insert(0, '../cix')\n",
    "import myfuncs as mf\n",
    "import pandas as pd\n",
    "from rdkit import rdBase\n",
    "rdBase.DisableLog('rdApp.*') # To make rdkit silent\n",
    "from rdkit.Chem import PandasTools as pt\n",
    "from rdkit.Chem import Descriptors\n",
    "import numpy as np"
   ]
  },
  {
   "cell_type": "code",
   "execution_count": 69,
   "metadata": {},
   "outputs": [],
   "source": [
    "it = range(50000, 300001, 50000)\n",
    "nit = len(it)\n",
    "\n",
    "def wholean(it, name_train = \"train\", name_pref = \"unc\"):\n",
    "\n",
    "    df = pd.DataFrame(np.nan, index = range(1, nit+1),\\\n",
    "                      columns =\\\n",
    "                     [\"# train\",\"%corr inp\",\"# clus inp\",\"# fram inp\",\"# gen fram inp\",\\\n",
    "                     \"# out\",\"%corr out\",\"# clus out\",\"# fram out\",\"# gen fram out\",\\\n",
    "                     \"% new str\",\"% new fram\",\"% new gen fram\"])\n",
    "    for i in range(len(it)):\n",
    "    \n",
    "        # Find corrects in input and fill ntrain and pcorr inp\n",
    "        smis = mf.smif2smis('./' + name_train + str(it[i]) + '.smi')\n",
    "        ncorr, n, smis, wrongsmis = mf.corrsmis(smis)\n",
    "        smidft = mf.smis2smidf(smis)\n",
    "        del smis\n",
    "        df[\"# train\"].iloc[i] = n\n",
    "        df[\"%corr inp\"].iloc[i] = round(ncorr/float(n)*100,2)\n",
    "    \n",
    "        # Find corrects in output \n",
    "        smis = mf.smif2smis('./' + name_pref +str(it[i]) + '.smi')\n",
    "        ncorr, n, smis, wrongsmis = mf.corrsmis(smis)\n",
    "        smidfu = mf.smis2smidf(smis)\n",
    "        del smis\n",
    "        df[\"# out\"].iloc[i] = n\n",
    "        df[\"%corr out\"].iloc[i] = round(ncorr/float(n)*100,2)\n",
    "    \n",
    "        # Diversity analysis of input and fill nclus inp, nfram inp, ngenfram inp\n",
    "        clb, fs, fg = mf.divan(smidft, OnlyBu = True)\n",
    "        df[\"# clus inp\"].iloc[i] = len(clb)\n",
    "        df[\"# fram inp\"].iloc[i] = len(fs)\n",
    "        df[\"# gen fram inp\"].iloc[i] = len(fg)\n",
    "    \n",
    "        # Diversity analysis of output and fill nclus out, nfram out, ngenfram out\n",
    "        clb, fs, fg = mf.divan(smidfu, OnlyBu = True)\n",
    "        df[\"# clus out\"].iloc[i] = len(clb)\n",
    "        df[\"# fram out\"].iloc[i] = len(fs)\n",
    "        df[\"# gen fram out\"].iloc[i] = len(fg)\n",
    "    \n",
    "        # Novelty analysis\n",
    "        news, fraq, newfraqs, gfraq, newgfraqs = mf.novan(smidfu, smidft, th = 0.7)\n",
    "        df[\"% new str\"].iloc[i] = round(100*len(news)/5000.,2)\n",
    "        df[\"% new fram\"].iloc[i] = round(100*len(newfraqs)/float(len(fraq)),2)\n",
    "        df[\"% new gen fram\"].iloc[i] = round(100*len(newgfraqs)/float(len(gfraq)),2)\n",
    "                            \n",
    "    # Return dataframe with output\n",
    "    return df"
   ]
  },
  {
   "cell_type": "code",
   "execution_count": null,
   "metadata": {},
   "outputs": [],
   "source": [
    "df_un = wholean(it = it, name_train = \"train\", name_pref = \"unc\")"
   ]
  },
  {
   "cell_type": "code",
   "execution_count": null,
   "metadata": {},
   "outputs": [],
   "source": [
    "df"
   ]
  },
  {
   "cell_type": "code",
   "execution_count": 63,
   "metadata": {},
   "outputs": [
    {
     "data": {
      "text/plain": [
       "[0, 1, 2, 3, 4, 5]"
      ]
     },
     "execution_count": 63,
     "metadata": {},
     "output_type": "execute_result"
    }
   ],
   "source": []
  },
  {
   "cell_type": "code",
   "execution_count": 53,
   "metadata": {},
   "outputs": [],
   "source": [
    "#df.to_csv(\"analysis1-un.csv\")"
   ]
  },
  {
   "cell_type": "code",
   "execution_count": null,
   "metadata": {},
   "outputs": [],
   "source": [
    "df_co = wholean(it = it, name_train = \"train\", name_pref = \"con\")"
   ]
  },
  {
   "cell_type": "code",
   "execution_count": null,
   "metadata": {},
   "outputs": [],
   "source": [
    "df"
   ]
  },
  {
   "cell_type": "code",
   "execution_count": null,
   "metadata": {},
   "outputs": [],
   "source": [
    "df.to_csv(\"analysis1-co.csv\")"
   ]
  },
  {
   "cell_type": "code",
   "execution_count": null,
   "metadata": {},
   "outputs": [],
   "source": []
  }
 ],
 "metadata": {
  "kernelspec": {
   "display_name": "Python 2",
   "language": "python",
   "name": "python2"
  },
  "language_info": {
   "codemirror_mode": {
    "name": "ipython",
    "version": 2
   },
   "file_extension": ".py",
   "mimetype": "text/x-python",
   "name": "python",
   "nbconvert_exporter": "python",
   "pygments_lexer": "ipython2",
   "version": "2.7.15"
  }
 },
 "nbformat": 4,
 "nbformat_minor": 2
}
