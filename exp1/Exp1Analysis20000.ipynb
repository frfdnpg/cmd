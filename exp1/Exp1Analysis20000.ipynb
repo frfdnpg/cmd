{
 "cells": [
  {
   "cell_type": "code",
   "execution_count": 1,
   "metadata": {
    "scrolled": false
   },
   "outputs": [
    {
     "name": "stderr",
     "output_type": "stream",
     "text": [
      "/home/gcolmenarejo/anaconda3/envs/cix/lib/python2.7/site-packages/matplotlib/cbook/deprecation.py:107: MatplotlibDeprecationWarning: The mpl_toolkits.axes_grid module was deprecated in version 2.1. Use mpl_toolkits.axes_grid1 and mpl_toolkits.axisartist provies the same functionality instead.\n",
      "  warnings.warn(message, mplDeprecation, stacklevel=1)\n"
     ]
    }
   ],
   "source": [
    "# Import myfunc at cix folder\n",
    "%matplotlib inline\n",
    "import matplotlib.pyplot as plt\n",
    "import sys\n",
    "sys.path.insert(0, '../cix')\n",
    "import myfuncs as mf\n",
    "import pandas as pd\n",
    "from rdkit import rdBase\n",
    "rdBase.DisableLog('rdApp.*') # To make rdkit silent\n",
    "from rdkit.Chem import PandasTools as pt\n",
    "from rdkit.Chem import Descriptors\n",
    "import numpy as np\n",
    "import time"
   ]
  },
  {
   "cell_type": "markdown",
   "metadata": {},
   "source": [
    "This is an script to analyze the output of experiment 1. In this experiment the CMD was trained with increasing subsets of the original set of 300K molecules used in the CMD paper. The idea is to figure out how the size of the training set influences the correctness, diversity and novelty of the output generated with the CMD. \n",
    "The correctness of the training and output files is assessed by the percentage of correct SMILES.\n",
    "The diversity of the training and output files are assessed by counting the number of clusters, frames and generic frames in both sets. \n",
    "The novelty of the training set is assessed by the percentage of molecules with a Tanimoto similarity < 0.7 to any molecule in the training set, and the percentage of frames or generic frames not present in the training set. \n",
    "In this version we analyze the outputs generated when the CMD was set to output 20K molecules instead of 5K. "
   ]
  },
  {
   "cell_type": "code",
   "execution_count": null,
   "metadata": {},
   "outputs": [
    {
     "name": "stdout",
     "output_type": "stream",
     "text": [
      "Clustering time: 00:00:09\n",
      "Diversity analysis time: 00:02:51\n",
      "Clustering time: 00:00:03\n",
      "Diversity analysis time: 00:00:59\n",
      "Arenas creation time: 00:00:00\n",
      "Novelty analysis time: 00:04:18\n",
      "Clustering time: 00:00:25\n",
      "Diversity analysis time: 00:06:43\n",
      "Clustering time: 00:00:03\n",
      "Diversity analysis time: 00:01:12\n",
      "Arenas creation time: 00:00:00\n"
     ]
    }
   ],
   "source": [
    "##########################################################\n",
    "## Analysis of the unconditioned output\n",
    "##########################################################\n",
    "\n",
    "# Init the time counter for the whole notebook\n",
    "start = time.time()\n",
    "\n",
    "\n",
    "it = range(50000, 300001, 50000)\n",
    "\n",
    "df_un, cls_un = mf.wholean(it = it, name_train = \"train\", name_pref = \"unc20k-\")"
   ]
  },
  {
   "cell_type": "code",
   "execution_count": null,
   "metadata": {},
   "outputs": [],
   "source": [
    "# Show the results in the output dataframe\n",
    "\n",
    "df_un"
   ]
  },
  {
   "cell_type": "code",
   "execution_count": null,
   "metadata": {},
   "outputs": [],
   "source": [
    "# Save the results\n",
    "\n",
    "df_un.to_csv(\"analysis1-un-20000.csv\")"
   ]
  },
  {
   "cell_type": "code",
   "execution_count": null,
   "metadata": {},
   "outputs": [],
   "source": [
    "# Plot the clusters distributions and cluster size distribution\n",
    "mf.plotmulticlus(cls_un, 10, 20)"
   ]
  },
  {
   "cell_type": "code",
   "execution_count": null,
   "metadata": {},
   "outputs": [],
   "source": [
    "it = range(50000, 300001, 50000)"
   ]
  },
  {
   "cell_type": "code",
   "execution_count": null,
   "metadata": {},
   "outputs": [],
   "source": [
    "##########################################################\n",
    "## Analysis of the conditioned output\n",
    "##########################################################\n",
    "\n",
    "df_co, cls_co = mf.wholean(it = it, name_train = \"train\", name_pref = \"con20k-\")"
   ]
  },
  {
   "cell_type": "code",
   "execution_count": null,
   "metadata": {},
   "outputs": [],
   "source": [
    "# Show the results dataframe\n",
    "\n",
    "df_co"
   ]
  },
  {
   "cell_type": "code",
   "execution_count": null,
   "metadata": {},
   "outputs": [],
   "source": [
    "# Save the results dataframe\n",
    "\n",
    "df_co.to_csv(\"analysis1-co-20000.csv\")"
   ]
  },
  {
   "cell_type": "code",
   "execution_count": null,
   "metadata": {},
   "outputs": [],
   "source": [
    "# Plot the clusters distributions and cluster size distribution\n",
    "\n",
    "mf.plotmulticlus(cls_co, 10, 20)"
   ]
  },
  {
   "cell_type": "code",
   "execution_count": null,
   "metadata": {},
   "outputs": [],
   "source": [
    "### Plot the bunch of histograms of mwt\n",
    "it = range(50000, 300001, 50000)\n",
    "mwts = []\n",
    "\n",
    "for n in it:\n",
    "    smis = mf.smif2smis('./con20k-' + str(n) + '.smi')\n",
    "    ncorr, n, smis, wrongsmis = mf.corrsmis(smis)\n",
    "    smidf = mf.smis2smidf(smis)\n",
    "    pt.AddMoleculeColumnToFrame(smidf,\"smiles\")\n",
    "    smidf['mw'] = smidf['ROMol'].map(Descriptors.MolWt)\n",
    "    del smidf[\"ROMol\"]\n",
    "    mwts.append(list(smidf['mw']))\n",
    "\n",
    "leg = [\"# train=50K\",\"# train=100K\",\"# train=150K\",\"# train=200K\",\"# train=250K\",\"# train=300K\"] \n",
    "\n",
    "mf.paintmultihist(mwts, \"MWt\", 3, 2, 270, 300, 15, 15, 210, 400, leg)"
   ]
  },
  {
   "cell_type": "code",
   "execution_count": null,
   "metadata": {},
   "outputs": [],
   "source": [
    "# End the time counter for the whole notebook\n",
    "end = time.time()\n",
    "eltime = end - start\n",
    "print('Exp1Analysis20000 execution time: ' + time.strftime(\"%H:%M:%S\", time.gmtime(eltime)))"
   ]
  },
  {
   "cell_type": "code",
   "execution_count": null,
   "metadata": {},
   "outputs": [],
   "source": []
  },
  {
   "cell_type": "code",
   "execution_count": null,
   "metadata": {},
   "outputs": [],
   "source": []
  }
 ],
 "metadata": {
  "kernelspec": {
   "display_name": "Python 2",
   "language": "python",
   "name": "python2"
  },
  "language_info": {
   "codemirror_mode": {
    "name": "ipython",
    "version": 2
   },
   "file_extension": ".py",
   "mimetype": "text/x-python",
   "name": "python",
   "nbconvert_exporter": "python",
   "pygments_lexer": "ipython2",
   "version": "2.7.15"
  }
 },
 "nbformat": 4,
 "nbformat_minor": 2
}
